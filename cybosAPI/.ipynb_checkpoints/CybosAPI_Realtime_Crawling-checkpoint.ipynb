{
 "cells": [
  {
   "cell_type": "code",
   "execution_count": 20,
   "metadata": {
    "collapsed": true
   },
   "outputs": [],
   "source": [
    "import win32com.client\n",
    "import pandas as pd\n",
    "import os\n",
    "import sys\n",
    "import time\n",
    "import datetime\n",
    "import csv\n",
    "import json"
   ]
  },
  {
   "cell_type": "code",
   "execution_count": 21,
   "metadata": {
    "collapsed": true
   },
   "outputs": [],
   "source": [
    "class CpMarketEye:\n",
    "    def __init__(self,info):\n",
    "        self.info = info\n",
    "        self.code = list(info.values())\n",
    "        self.stock = list(info.keys())\n",
    "        self.result = {}\n",
    "\n",
    "        for i in range(10):\n",
    "            self.result[\"%s_%s\" % (self.code[i],self.stock[i])] = []\n",
    "        \n",
    "    def Request(self,currentDate,currentDateTime):\n",
    "        # 연결 여부 체크\n",
    "        objCpCybos = win32com.client.Dispatch(\"CpUtil.CpCybos\")\n",
    "        bConnect = objCpCybos.IsConnect\n",
    "        if (bConnect == 0):\n",
    "            print(\"PLUS가 정상적으로 연결되지 않음. \")\n",
    "            return False\n",
    "        \n",
    "        request_Field = [4,10]\n",
    "        \n",
    "        # 관심종목 객체 구하기\n",
    "        objRq = win32com.client.Dispatch(\"CpSysDib.MarketEye\")\n",
    "        \n",
    "        # 요청 필드 세팅 - 종목코드, 종목명, 시간, 대비부호, 대비, 현재가, 거래량\n",
    "        # rqField = [0,17, 1,2,3,4,10]\n",
    "        objRq.SetInputValue(0, request_Field) # 요청 필드\n",
    "        objRq.SetInputValue(1, self.code)  # 종목코드 or 종목코드 리스트\n",
    "        objRq.BlockRequest()\n",
    " \n",
    "        # 현재가 통신 및 통신 에러 처리\n",
    "        rqStatus = objRq.GetDibStatus()\n",
    "        rqRet = objRq.GetDibMsg1()\n",
    "        print(\"통신상태\", rqStatus, rqRet)\n",
    "        if rqStatus != 0:\n",
    "            return False\n",
    " \n",
    "        cnt  = objRq.GetHeaderValue(2)\n",
    "        \n",
    "\n",
    "        for i in range(cnt):\n",
    "            temp = []\n",
    "            temp.append(currentDate)\n",
    "            temp.append(currentDateTime)\n",
    "            for j in range(len(request_Field)):\n",
    "                temp.append(str(objRq.GetDataValue(j,i)))\n",
    "            self.result[\"%s_%s\" % (self.code[i],self.stock[i])].append(temp)\n",
    "        return self.result"
   ]
  },
  {
   "cell_type": "code",
   "execution_count": 22,
   "metadata": {
    "collapsed": true
   },
   "outputs": [],
   "source": [
    "def setStock(stock,datapath):\n",
    "    \n",
    "    \"\"\"\n",
    "    종목코드 설정하고 (stock)\n",
    "    해당 경로 설정(datapath)\n",
    "    이후 csv 가져와서 찾기\n",
    "    \"\"\"\n",
    "    filepath = os.listdir(datapath)\n",
    "    csv_file = [idx for idx in filepath if 'securities' in idx]\n",
    "    print(\"loading csv file : \",csv_file)\n",
    "    securities_csv = pd.DataFrame.from_csv(\"%s%s\" % (datapath,\"\".join(csv_file)), encoding='CP949', index_col=0 , header=0)\n",
    "    securities_csv = securities_csv.drop_duplicates([\"종목명\"])\n",
    "    securities_codes = {}\n",
    "    for i in stock:\n",
    "        securities_codes[i] = \"A\" + \"\".join(list(securities_csv[securities_csv[\"종목명\"] == i][\"종목코드\"]))\n",
    "    print(\"securities_code : \",securities_codes)\n",
    "    \n",
    "    return securities_codes\n",
    "    "
   ]
  },
  {
   "cell_type": "code",
   "execution_count": 23,
   "metadata": {
    "collapsed": true
   },
   "outputs": [],
   "source": [
    "def json_save(datapath,result):\n",
    "    with open(\"%s%s.json\" % (datapath,\"todayStock\") , \"w\", encoding=\"utf-8\") as file:\n",
    "        json.dump(result, file ,ensure_ascii=False, indent=\"\\t\")            \n",
    "    return None"
   ]
  },
  {
   "cell_type": "code",
   "execution_count": null,
   "metadata": {},
   "outputs": [
    {
     "name": "stdout",
     "output_type": "stream",
     "text": [
      "3.6.3 |Anaconda, Inc.| (default, Nov  8 2017, 15:12:41) [MSC v.1900 32 bit (Intel)]\n",
      "loading csv file :  ['securities_20181023.csv']\n",
      "securities_code :  {'유한양행': 'A000100', '녹십자': 'A006280', '광동제약': 'A009290', '대웅제약': 'A069620', '한미약품': 'A128940', '종근당': 'A001630', '동아쏘시오홀딩스': 'A000640', 'JW홀딩스': 'A096760', '일동제약': 'A249420', '한미사이언스': 'A008930'}\n",
      "통신상태 0 0027 조회가 완료되었습니다.(market.eye)\n",
      "{'A000100_유한양행': [['20181028', '1206', '197500', '33146']], 'A006280_녹십자': [['20181028', '1206', '130500', '74063']], 'A009290_광동제약': [['20181028', '1206', '5800', '205599']], 'A069620_대웅제약': [['20181028', '1206', '140000', '68017']], 'A128940_한미약품': [['20181028', '1206', '393000', '50554']], 'A001630_종근당': [['20181028', '1206', '58900', '10693']], 'A000640_동아쏘시오홀딩스': [['20181028', '1206', '92100', '13613']], 'A096760_JW홀딩스': [['20181028', '1206', '6090', '228313']], 'A249420_일동제약': [['20181028', '1206', '20000', '193355']], 'A008930_한미사이언스': [['20181028', '1206', '67600', '86247']]}\n"
     ]
    }
   ],
   "source": [
    "if __name__==\"__main__\":\n",
    "    \"\"\"\n",
    "    KOSPI 제약종목 10개 \n",
    "    유한양행\n",
    "    녹십자\n",
    "    광동제약\n",
    "    대웅제약\n",
    "    한미약품\n",
    "    종근당\n",
    "    동아쏘시오홀딩스\n",
    "    JW홀딩스\n",
    "    제일약품\n",
    "    한미사이언스\n",
    "    \"\"\"\n",
    "    \n",
    "    print(win32com.client.sys.version)\n",
    "    stock = [\"유한양행\",\"녹십자\",\"광동제약\",\"대웅제약\",\"한미약품\",\n",
    "                \"종근당\",\"동아쏘시오홀딩스\",\"JW홀딩스\",\"일동제약\",\"한미사이언스\"]\n",
    "    datapath = \"../data/\"\n",
    "    objMarkeyeye = CpMarketEye(setStock(stock,datapath))\n",
    "    while True:\n",
    "        now = datetime.datetime.now()\n",
    "        nowDate = now.strftime(\"%Y%m%d\")\n",
    "        nowDatetime = now.strftime(\"%H%M\") ##현재시간 구하기\n",
    "        if(nowDatetime >= '0900' and nowDatetime <= '1630'): #이 시간 사이에 실행\n",
    "            result = objMarkeyeye.Request(str(nowDate),str(nowDatetime))\n",
    "            json_save(datapath,result)\n",
    "            \n",
    "        time.sleep(60)\n"
   ]
  },
  {
   "cell_type": "code",
   "execution_count": null,
   "metadata": {
    "collapsed": true
   },
   "outputs": [],
   "source": []
  }
 ],
 "metadata": {
  "kernelspec": {
   "display_name": "python36_32",
   "language": "python",
   "name": "python36_32"
  },
  "language_info": {
   "codemirror_mode": {
    "name": "ipython",
    "version": 3
   },
   "file_extension": ".py",
   "mimetype": "text/x-python",
   "name": "python",
   "nbconvert_exporter": "python",
   "pygments_lexer": "ipython3",
   "version": "3.6.3"
  }
 },
 "nbformat": 4,
 "nbformat_minor": 2
}
