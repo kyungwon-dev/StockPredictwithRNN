{
 "cells": [
  {
   "cell_type": "code",
   "execution_count": 2,
   "metadata": {
    "collapsed": true
   },
   "outputs": [],
   "source": [
    "import sys\n",
    "import win32com.client\n",
    "import pandas as pd\n",
    "import os\n",
    "import ctypes\n",
    "import time\n",
    "import datetime"
   ]
  },
  {
   "cell_type": "code",
   "execution_count": 3,
   "metadata": {
    "collapsed": true
   },
   "outputs": [],
   "source": [
    "class CpStockChart:\n",
    "    def __init__(self):\n",
    "        self.objStockChart = win32com.client.Dispatch(\"CpSysDib.StockChart\")\n",
    "        self.g_objCodeMgr = win32com.client.Dispatch('CpUtil.CpCodeMgr')\n",
    "        self.g_objCpStatus = win32com.client.Dispatch('CpUtil.CpCybos')\n",
    "        \n",
    "    # PLUS 실행 기본 체크 함수\n",
    "    def InitPlusCheck(self,g_objCpStatus):\n",
    "        # 프로세스가 관리자 권한으로 실행 여부\n",
    "        if ctypes.windll.shell32.IsUserAnAdmin():\n",
    "            print('정상: 관리자권한으로 실행된 프로세스입니다.')\n",
    "        else:\n",
    "            print('오류: 일반권한으로 실행됨. 관리자 권한으로 실행해 주세요')\n",
    "            return False\n",
    "\n",
    "        # 연결 여부 체크\n",
    "        if (g_objCpStatus.IsConnect == 0):\n",
    "            print(\"PLUS가 정상적으로 연결되지 않음. \")\n",
    "            return False\n",
    "\n",
    "        # # 주문 관련 초기화\n",
    "        # if (g_objCpTrade.TradeInit(0) != 0):\n",
    "        #     print(\"주문 초기화 실패\")\n",
    "        #     return False\n",
    "\n",
    "        return True\n",
    "    \n",
    "    # 차트 요청 - 기간 기준으로\n",
    "    def RequestFromTo(self, code, dwm,fromDate, toDate, caller):\n",
    "        print(code, fromDate, toDate)\n",
    "        # 연결 여부 체크\n",
    "        if self.InitPlusCheck(self.g_objCpStatus) == False:\n",
    "            return False\n",
    " \n",
    "        self.objStockChart.SetInputValue(0, code)  # 종목코드\n",
    "        self.objStockChart.SetInputValue(1, ord('1'))  # 기간으로 받기\n",
    "        self.objStockChart.SetInputValue(2, toDate)  # To 날짜\n",
    "        self.objStockChart.SetInputValue(3, fromDate)  # From 날짜\n",
    "        self.objStockChart.SetInputValue(5, [0, 1, 2, 8])  # 날짜,시간,시가,거래량\n",
    "        self.objStockChart.SetInputValue(6, dwm)  # '차트 주기 - 분/틱\n",
    "        self.objStockChart.SetInputValue(7, 1)  # 분틱차트 주기\n",
    "        self.objStockChart.SetInputValue(9, ord('1'))  # 수정주가 사용\n",
    "        self.objStockChart.BlockRequest()\n",
    " \n",
    "        rqStatus = self.objStockChart.GetDibStatus()\n",
    "        rqRet = self.objStockChart.GetDibMsg1()\n",
    "        print(\"통신상태\", rqStatus, rqRet)\n",
    "        if rqStatus != 0:\n",
    "            exit()\n",
    " \n",
    "        len = self.objStockChart.GetHeaderValue(3)\n",
    " \n",
    "        caller.dates = []\n",
    "        caller.opens = []\n",
    "        caller.vols = []\n",
    "        caller.times = []\n",
    "        for i in range(len):\n",
    "            caller.dates.append(self.objStockChart.GetDataValue(0, i))\n",
    "            caller.times.append(self.objStockChart.GetDataValue(1, i))\n",
    "            caller.opens.append(self.objStockChart.GetDataValue(2, i))\n",
    "            caller.vols.append(self.objStockChart.GetDataValue(3, i))\n",
    " \n",
    "        return "
   ]
  },
  {
   "cell_type": "code",
   "execution_count": 4,
   "metadata": {
    "collapsed": true
   },
   "outputs": [],
   "source": [
    "class PastStock:\n",
    "    def __init__(self):\n",
    "        \n",
    "        self.dates = []\n",
    "        self.opens = []\n",
    "        self.vols = []\n",
    "        self.times = []\n",
    " \n",
    "        self.objChart = CpStockChart()\n",
    "        \n",
    "        self.stock_list = [\"유한양행\",\"녹십자\",\"광동제약\",\"대웅제약\",\"한미약품\",\n",
    "                \"종근당\",\"동아쏘시오홀딩스\",\"JW홀딩스\",\"일동제약\",\"한미사이언스\"]\n",
    "        self.datapath = \"../data/\"\n",
    "        self.init_stock = self.setStock(self.stock_list,self.datapath)\n",
    "        self.stock_code = tuple(self.init_stock.values())\n",
    " \n",
    " \n",
    "    def setStock(self,stock,datapath):\n",
    "    \n",
    "        \"\"\"\n",
    "        종목코드 설정하고 (stock)\n",
    "        해당 경로 설정(datapath)\n",
    "        이후 csv 가져와서 찾기\n",
    "        \"\"\"\n",
    "        filepath = os.listdir(datapath)\n",
    "        csv_file = [idx for idx in filepath if 'securities' in idx]\n",
    "        print(\"loading csv file : \",csv_file)\n",
    "        securities_csv = pd.DataFrame.from_csv(\"%s%s\" % (datapath,\"\".join(csv_file)), encoding='CP949', index_col=0 , header=0)\n",
    "        securities_csv = securities_csv.drop_duplicates([\"종목명\"])\n",
    "        securities_codes = {}\n",
    "        for i in stock:\n",
    "            securities_codes[i] = \"A\" + \"\".join(list(securities_csv[securities_csv[\"종목명\"] == i][\"종목코드\"]))\n",
    "        print(\"securities_code : \",securities_codes)\n",
    "    \n",
    "        return securities_codes\n",
    "\n",
    "    def save_Stock(self,toDate,fromDate):\n",
    "        for i in range(len(self.stock_code)):\n",
    "            self.dates = []\n",
    "            self.opens = []\n",
    "            self.vols = []\n",
    "            self.times = []\n",
    "            self.objChart.RequestFromTo(self.stock_code[i],ord('m'),toDate,fromDate,self )\n",
    "            self.dates.reverse()\n",
    "            self.times.reverse()\n",
    "            self.opens.reverse()\n",
    "            self.vols.reverse()\n",
    "            chartData = {\n",
    "                'STOCK_DATE' : self.dates,\n",
    "                'STOCK_TIME' : self.times,\n",
    "                'STOCK_PRICE' : self.opens,\n",
    "                'STOCK_VOLUME' : self.vols,\n",
    "            }\n",
    "            df = pd.DataFrame(chartData, columns=['STOCK_DATE','STOCK_TIME','STOCK_PRICE','STOCK_VOLUME'])\n",
    "            \n",
    "            if toDate == \"20180101\":   \n",
    "                df.to_csv(\"%s%s_%s.csv\" % (self.datapath,self.stock_code[i],self.stock_list[i]), header = True, encoding=\"CP949\")\n",
    "            else:\n",
    "                df.to_csv(\"%s%s_%s.csv\" % (self.datapath,self.stock_code[i],self.stock_list[i]), mode='a', header = False, encoding=\"CP949\")\n",
    "        time.sleep(60)\n",
    "        return "
   ]
  },
  {
   "cell_type": "code",
   "execution_count": null,
   "metadata": {},
   "outputs": [
    {
     "name": "stdout",
     "output_type": "stream",
     "text": [
      "3.6.3 |Anaconda, Inc.| (default, Nov  8 2017, 15:12:41) [MSC v.1900 32 bit (Intel)]\n",
      "loading csv file :  ['securities_20181023.csv']\n",
      "securities_code :  {'유한양행': 'A000100', '녹십자': 'A006280', '광동제약': 'A009290', '대웅제약': 'A069620', '한미약품': 'A128940', '종근당': 'A001630', '동아쏘시오홀딩스': 'A000640', 'JW홀딩스': 'A096760', '일동제약': 'A249420', '한미사이언스': 'A008930'}\n",
      "A000100 20180101 20180103\n",
      "정상: 관리자권한으로 실행된 프로세스입니다.\n",
      "통신상태 0 \n",
      "A006280 20180101 20180103\n",
      "정상: 관리자권한으로 실행된 프로세스입니다.\n",
      "통신상태 0 \n",
      "A009290 20180101 20180103\n",
      "정상: 관리자권한으로 실행된 프로세스입니다.\n",
      "통신상태 0 \n",
      "A069620 20180101 20180103\n",
      "정상: 관리자권한으로 실행된 프로세스입니다.\n",
      "통신상태 0 \n",
      "A128940 20180101 20180103\n",
      "정상: 관리자권한으로 실행된 프로세스입니다.\n",
      "통신상태 0 \n",
      "A001630 20180101 20180103\n",
      "정상: 관리자권한으로 실행된 프로세스입니다.\n",
      "통신상태 0 \n",
      "A000640 20180101 20180103\n",
      "정상: 관리자권한으로 실행된 프로세스입니다.\n",
      "통신상태 0 \n",
      "A096760 20180101 20180103\n",
      "정상: 관리자권한으로 실행된 프로세스입니다.\n",
      "통신상태 0 \n",
      "A249420 20180101 20180103\n",
      "정상: 관리자권한으로 실행된 프로세스입니다.\n",
      "통신상태 0 \n",
      "A008930 20180101 20180103\n",
      "정상: 관리자권한으로 실행된 프로세스입니다.\n",
      "통신상태 0 \n"
     ]
    }
   ],
   "source": [
    "if __name__==\"__main__\":\n",
    "    print(sys.version)\n",
    "    start = PastStock()\n",
    "    now = datetime.datetime.now()\n",
    "    nowDate = now.strftime(\"%m%d\")\n",
    "    timeToSave = [x for x in range(101, int(nowDate), 3) if x%100 < 32 ]\n",
    "    timeToSave = [x for x in timeToSave if x%100!=0]\n",
    "    timeToSave = [x for x in timeToSave if x!=230]\n",
    "    for i in range(len(timeToSave)-1):\n",
    "        start.save_Stock(str(20180000+int(timeToSave[i])),str(20180000+int(timeToSave[i+1])-1))"
   ]
  },
  {
   "cell_type": "code",
   "execution_count": 4,
   "metadata": {},
   "outputs": [
    {
     "name": "stdout",
     "output_type": "stream",
     "text": [
      "[101, 104, 107, 110, 113, 116, 119, 122, 125, 128, 131, 203, 206, 209, 212, 215, 218, 221, 224, 227, 302, 305, 308, 311, 314, 317, 320, 323, 326, 329, 401, 404, 407, 410, 413, 416, 419, 422, 425, 428, 431, 503, 506, 509, 512, 515, 518, 521, 524, 527, 530, 602, 605, 608, 611, 614, 617, 620, 623, 626, 629, 701, 704, 707, 710, 713, 716, 719, 722, 725, 728, 731, 803, 806, 809, 812, 815, 818, 821, 824, 827, 830, 902, 905, 908, 911, 914, 917, 920, 923, 926, 929, 1001, 1004, 1007, 1010, 1013, 1016, 1019, 1022, 1025, 1028, 1031, 1103]\n"
     ]
    }
   ],
   "source": [
    "import time\n",
    "import datetime\n",
    "\n",
    "now = datetime.datetime.now()\n",
    "nowDate = now.strftime(\"%m%d\")\n",
    "timeToSave = [x for x in range(101, int(nowDate), 3) if x%100 < 32 ]\n",
    "timeToSave = [x for x in timeToSave if x%100!=0]\n",
    "timeToSave = [x for x in timeToSave if x!=230]\n",
    "print(timeToSave)"
   ]
  },
  {
   "cell_type": "code",
   "execution_count": null,
   "metadata": {
    "collapsed": true
   },
   "outputs": [],
   "source": []
  }
 ],
 "metadata": {
  "kernelspec": {
   "display_name": "python36_32",
   "language": "python",
   "name": "python36_32"
  },
  "language_info": {
   "codemirror_mode": {
    "name": "ipython",
    "version": 3
   },
   "file_extension": ".py",
   "mimetype": "text/x-python",
   "name": "python",
   "nbconvert_exporter": "python",
   "pygments_lexer": "ipython3",
   "version": "3.6.3"
  }
 },
 "nbformat": 4,
 "nbformat_minor": 2
}
