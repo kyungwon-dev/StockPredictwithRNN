{
 "cells": [
  {
   "cell_type": "code",
   "execution_count": 1,
   "metadata": {
    "collapsed": true
   },
   "outputs": [],
   "source": [
    "import urllib.request\n",
    "from bs4 import BeautifulSoup\n",
    "import pandas as pd\n",
    "import datetime\n",
    "import time\n",
    "\n",
    "import numpy as np"
   ]
  },
  {
   "cell_type": "code",
   "execution_count": 2,
   "metadata": {
    "collapsed": true
   },
   "outputs": [],
   "source": [
    "def get_request_url(url, enc='UTF-8'):\n",
    "    \n",
    "    req = urllib.request.Request(url)\n",
    "    try: \n",
    "        response = urllib.request.urlopen(req)\n",
    "        if response.getcode() == 200:\n",
    "            try:\n",
    "                rcv = response.read()\n",
    "                ret = rcv.decode(enc)\n",
    "            except UnicodeDecodeError:\n",
    "                ret = rcv.decode(enc, 'replace')    \n",
    "            \n",
    "            return ret\n",
    "            \n",
    "    except Exception as e:\n",
    "        print(e)\n",
    "        print(\"[%s] Error for URL : %s\" % (datetime.datetime.now(), url))\n",
    "        return None"
   ]
  },
  {
   "cell_type": "code",
   "execution_count": 3,
   "metadata": {
    "collapsed": true
   },
   "outputs": [],
   "source": [
    "def get_securities_Code(url):\n",
    "    print(url)\n",
    "    rcv_data = get_request_url(url)\n",
    "    soupData = BeautifulSoup(rcv_data,'html.parser')\n",
    "    table_tag = soupData.find('table')\n",
    "    #print(table_tag)\n",
    "    \n",
    "    data = []\n",
    "    \n",
    "    for tr in table_tag.findAll(\"tr\"):\n",
    "        stock = []\n",
    "        #print(tr)\n",
    "        for td in tr.findAll(\"td\"):\n",
    "            stock.append(td.string)\n",
    "            if(str(td.string) == \"INDEX\"):\n",
    "                stock = []\n",
    "                break\n",
    "        data.append(stock)\n",
    "        del(stock)\n",
    "        #print(data)\n",
    "    \n",
    "    return data"
   ]
  },
  {
   "cell_type": "code",
   "execution_count": 4,
   "metadata": {
    "collapsed": true
   },
   "outputs": [],
   "source": [
    "def main():\n",
    "    securities_URL = \"http://bigdata-trader.com\"\n",
    "    securities_type = \"itemcodehelp2.jsp\"\n",
    "    \n",
    "    securities_URL = securities_URL + \"/\" + securities_type\n",
    "    code_column = (\"종목코드\",\"종목명\",\"종류\")\n",
    "    #print(securities_URL)\n",
    "    \n",
    "    result = get_securities_Code(securities_URL)\n",
    "    \n",
    "    securities_table = pd.DataFrame(result,columns=code_column)\n",
    "    securities_table.to_csv(\"../data/securities_%s.csv\" % (datetime.datetime.now().strftime(\"%Y%m%d\")),\n",
    "                            encoding=\"CP949\",mode = 'w', index = True)\n",
    "    \n",
    "    print('FINISHED')"
   ]
  },
  {
   "cell_type": "code",
   "execution_count": 5,
   "metadata": {},
   "outputs": [
    {
     "name": "stdout",
     "output_type": "stream",
     "text": [
      "http://bigdata-trader.com/itemcodehelp2.jsp\n",
      "FINISHED\n"
     ]
    }
   ],
   "source": [
    "if __name__ == '__main__':\n",
    "     main()"
   ]
  },
  {
   "cell_type": "code",
   "execution_count": null,
   "metadata": {
    "collapsed": true
   },
   "outputs": [],
   "source": [
    "a = [1,5,6,7,3,5,7,9]\n",
    "a.sort()\n",
    "print(a)"
   ]
  },
  {
   "cell_type": "code",
   "execution_count": null,
   "metadata": {
    "collapsed": true
   },
   "outputs": [],
   "source": [
    "prin"
   ]
  }
 ],
 "metadata": {
  "kernelspec": {
   "display_name": "Python 3",
   "language": "python",
   "name": "python3"
  },
  "language_info": {
   "codemirror_mode": {
    "name": "ipython",
    "version": 3
   },
   "file_extension": ".py",
   "mimetype": "text/x-python",
   "name": "python",
   "nbconvert_exporter": "python",
   "pygments_lexer": "ipython3",
   "version": "3.6.3"
  }
 },
 "nbformat": 4,
 "nbformat_minor": 2
}
