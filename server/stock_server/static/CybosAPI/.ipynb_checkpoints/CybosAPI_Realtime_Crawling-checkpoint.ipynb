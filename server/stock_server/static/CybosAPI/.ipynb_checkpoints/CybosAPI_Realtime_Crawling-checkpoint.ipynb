{
 "cells": [
  {
   "cell_type": "code",
   "execution_count": 6,
   "metadata": {
    "collapsed": true
   },
   "outputs": [],
   "source": [
    "import win32com.client\n",
    "import pandas as pd\n",
    "import os\n",
    "import sys\n",
    "import time\n",
    "import datetime\n",
    "import csv\n",
    "import json"
   ]
  },
  {
   "cell_type": "code",
   "execution_count": 7,
   "metadata": {
    "collapsed": true
   },
   "outputs": [],
   "source": [
    "class CpMarketEye:\n",
    "    def __init__(self,info):\n",
    "        self.info = info\n",
    "        self.code = list(info.values())\n",
    "        self.stock = list(info.keys())\n",
    "        \n",
    "        self.result = os.listdir(\"../data/\")\n",
    "        self.result = [i for i in self.result if \"todayStock\"in i]\n",
    "        \n",
    "        if not self.result:\n",
    "            self.result = {}\n",
    "            for i in range(10):\n",
    "                self.result[\"%s\" % (self.code[i])] = []\n",
    "                self.result[\"%s\" % (self.code[i])].append({\"STOCK_DATE\":[]})\n",
    "                self.result[\"%s\" % (self.code[i])].append({\"STOCK_PRICE\":[]})\n",
    "                self.result[\"%s\" % (self.code[i])].append({\"STOCK_VOLUME\":[]})\n",
    "                self.result[\"%s\" % (self.code[i])].append({\"RNN_PRICE\":[]})\n",
    "                self.result[\"%s\" % (self.code[i])].append({\"DNN_PRICE\":[]})\n",
    "                \n",
    "        else:\n",
    "             with open('../data/%s' % \"\".join(self.result)) as data_file:    \n",
    "                self.result = json.load(data_file)\n",
    "\n",
    "    def Request(self,currentDate,currentDateTime):\n",
    "        # 연결 여부 체크\n",
    "        objCpCybos = win32com.client.Dispatch(\"CpUtil.CpCybos\")\n",
    "        bConnect = objCpCybos.IsConnect\n",
    "        if (bConnect == 0):\n",
    "            print(\"PLUS가 정상적으로 연결되지 않음. \")\n",
    "            return False\n",
    "        \n",
    "        request_Field = [4,10]\n",
    "        \n",
    "        # 관심종목 객체 구하기\n",
    "        objRq = win32com.client.Dispatch(\"CpSysDib.MarketEye\")\n",
    "        \n",
    "        # 요청 필드 세팅 - 종목코드, 종목명, 시간, 대비부호, 대비, 현재가, 거래량\n",
    "        # rqField = [0,17, 1,2,3,4,10]\n",
    "        objRq.SetInputValue(0, request_Field) # 요청 필드\n",
    "        objRq.SetInputValue(1, self.code)  # 종목코드 or 종목코드 리스트\n",
    "        objRq.BlockRequest()\n",
    " \n",
    "        # 현재가 통신 및 통신 에러 처리\n",
    "        rqStatus = objRq.GetDibStatus()\n",
    "        rqRet = objRq.GetDibMsg1()\n",
    "        print(\"통신상태\", rqStatus, rqRet)\n",
    "        if rqStatus != 0:\n",
    "            return False\n",
    " \n",
    "        cnt  = objRq.GetHeaderValue(2)\n",
    "        \n",
    "\n",
    "        for i in range(cnt):\n",
    "            self.result[\"%s\" % (self.code[i])][0][\"STOCK_DATE\"].append(str(currentDate)+\" \"+str(currentDateTime))\n",
    "            self.result[\"%s\" % (self.code[i])][1][\"STOCK_PRICE\"].append(str(objRq.GetDataValue(0,i)))\n",
    "            self.result[\"%s\" % (self.code[i])][2][\"STOCK_VOLUME\"].append(str(objRq.GetDataValue(1,i)))\n",
    "        return self.result"
   ]
  },
  {
   "cell_type": "code",
   "execution_count": 8,
   "metadata": {
    "collapsed": true
   },
   "outputs": [],
   "source": [
    "def setStock(stock,datapath):\n",
    "    \n",
    "    \"\"\"\n",
    "    종목코드 설정하고 (stock)\n",
    "    해당 경로 설정(datapath)\n",
    "    이후 csv 가져와서 찾기\n",
    "    \"\"\"\n",
    "    filepath = os.listdir(datapath)\n",
    "    csv_file = [idx for idx in filepath if 'securities' in idx]\n",
    "    print(\"loading csv file : \",csv_file)\n",
    "    securities_csv = pd.DataFrame.from_csv(\"%s%s\" % (datapath,\"\".join(csv_file)), encoding='CP949', index_col=0 , header=0)\n",
    "    securities_csv = securities_csv.drop_duplicates([\"종목명\"])\n",
    "    securities_codes = {}\n",
    "    for i in stock:\n",
    "        securities_codes[i] = \"A\" + \"\".join(list(securities_csv[securities_csv[\"종목명\"] == i][\"종목코드\"]))\n",
    "    print(\"securities_code : \",securities_codes)\n",
    "    \n",
    "    return securities_codes\n",
    "    "
   ]
  },
  {
   "cell_type": "code",
   "execution_count": 9,
   "metadata": {
    "collapsed": true
   },
   "outputs": [],
   "source": [
    "def json_save(datapath,result):\n",
    "    with open(\"%s%s.json\" % (datapath,\"todayStock\") , \"w\", encoding=\"utf-8\") as file:\n",
    "        json.dump(result, file ,ensure_ascii=False, indent=\"\\t\")            \n",
    "    return None"
   ]
  },
  {
   "cell_type": "code",
   "execution_count": 10,
   "metadata": {},
   "outputs": [
    {
     "name": "stdout",
     "output_type": "stream",
     "text": [
      "3.6.3 |Anaconda, Inc.| (default, Nov  8 2017, 15:12:41) [MSC v.1900 32 bit (Intel)]\n",
      "loading csv file :  ['securities_20181023.csv']\n",
      "securities_code :  {'유한양행': 'A000100', '녹십자': 'A006280', '광동제약': 'A009290', '대웅제약': 'A069620', '한미약품': 'A128940', '종근당': 'A001630', '동아쏘시오홀딩스': 'A000640', 'JW홀딩스': 'A096760', '일동제약': 'A249420', '한미사이언스': 'A008930'}\n",
      "통신상태 0 0027 조회가 완료되었습니다.(market.eye)\n",
      "Saved..wait 60 sec\n"
     ]
    },
    {
     "ename": "KeyboardInterrupt",
     "evalue": "",
     "output_type": "error",
     "traceback": [
      "\u001b[1;31m---------------------------------------------------------------------------\u001b[0m",
      "\u001b[1;31mKeyboardInterrupt\u001b[0m                         Traceback (most recent call last)",
      "\u001b[1;32m<ipython-input-10-5662ec9b095a>\u001b[0m in \u001b[0;36m<module>\u001b[1;34m()\u001b[0m\n\u001b[0;32m     27\u001b[0m                 \u001b[0mjson_save\u001b[0m\u001b[1;33m(\u001b[0m\u001b[0mdatapath\u001b[0m\u001b[1;33m,\u001b[0m\u001b[0mresult\u001b[0m\u001b[1;33m)\u001b[0m\u001b[1;33m\u001b[0m\u001b[0m\n\u001b[0;32m     28\u001b[0m                 \u001b[0mprint\u001b[0m\u001b[1;33m(\u001b[0m\u001b[1;34m\"Saved..wait 60 sec\"\u001b[0m\u001b[1;33m)\u001b[0m\u001b[1;33m\u001b[0m\u001b[0m\n\u001b[1;32m---> 29\u001b[1;33m                 \u001b[0mtime\u001b[0m\u001b[1;33m.\u001b[0m\u001b[0msleep\u001b[0m\u001b[1;33m(\u001b[0m\u001b[1;36m60\u001b[0m\u001b[1;33m)\u001b[0m\u001b[1;33m\u001b[0m\u001b[0m\n\u001b[0m\u001b[0;32m     30\u001b[0m             \u001b[1;32melse\u001b[0m\u001b[1;33m:\u001b[0m\u001b[1;33m\u001b[0m\u001b[0m\n\u001b[0;32m     31\u001b[0m                 \u001b[1;32mcontinue\u001b[0m\u001b[1;33m\u001b[0m\u001b[0m\n",
      "\u001b[1;31mKeyboardInterrupt\u001b[0m: "
     ]
    }
   ],
   "source": [
    "if __name__==\"__main__\":\n",
    "    \"\"\"\n",
    "    KOSPI 제약종목 10개 \n",
    "    유한양행\n",
    "    녹십자\n",
    "    광동제약\n",
    "    대웅제약\n",
    "    한미약품\n",
    "    종근당\n",
    "    동아쏘시오홀딩스\n",
    "    JW홀딩스\n",
    "    제일약품\n",
    "    한미사이언스\n",
    "    \"\"\"\n",
    "    print(win32com.client.sys.version)\n",
    "    stock = [\"유한양행\",\"녹십자\",\"광동제약\",\"대웅제약\",\"한미약품\",\n",
    "                \"종근당\",\"동아쏘시오홀딩스\",\"JW홀딩스\",\"일동제약\",\"한미사이언스\"]\n",
    "    datapath = \"../data/\"\n",
    "    objMarkeyeye = CpMarketEye(setStock(stock,datapath))\n",
    "    while True:\n",
    "        now = datetime.datetime.now()\n",
    "        nowDate = now.strftime(\"%Y%m%d\")\n",
    "        nowDatetime = now.strftime(\"%H%M\") ##현재시간 구하기\n",
    "        if(nowDatetime >= '0900' and nowDatetime <= '1530'): #이 시간 사이에 실행\n",
    "            result = objMarkeyeye.Request(str(nowDate),str(nowDatetime))\n",
    "            if result!= False:\n",
    "                json_save(datapath,result)\n",
    "                print(\"Saved..wait 120 sec\")\n",
    "                time.sleep(120)\n",
    "            else:\n",
    "                continue\n"
   ]
  },
  {
   "cell_type": "code",
   "execution_count": null,
   "metadata": {
    "collapsed": true
   },
   "outputs": [],
   "source": []
  },
  {
   "cell_type": "code",
   "execution_count": null,
   "metadata": {
    "collapsed": true
   },
   "outputs": [],
   "source": []
  }
 ],
 "metadata": {
  "kernelspec": {
   "display_name": "python36_32",
   "language": "python",
   "name": "python36_32"
  },
  "language_info": {
   "codemirror_mode": {
    "name": "ipython",
    "version": 3
   },
   "file_extension": ".py",
   "mimetype": "text/x-python",
   "name": "python",
   "nbconvert_exporter": "python",
   "pygments_lexer": "ipython3",
   "version": "3.6.3"
  }
 },
 "nbformat": 4,
 "nbformat_minor": 2
}
