{
 "cells": [
  {
   "cell_type": "code",
   "execution_count": 1,
   "metadata": {},
   "outputs": [
    {
     "name": "stderr",
     "output_type": "stream",
     "text": [
      "C:\\python\\Anaconda3\\envs\\deeplearning\\lib\\site-packages\\h5py\\__init__.py:34: FutureWarning: Conversion of the second argument of issubdtype from `float` to `np.floating` is deprecated. In future, it will be treated as `np.float64 == np.dtype(float).type`.\n",
      "  from ._conv import register_converters as _register_converters\n"
     ]
    }
   ],
   "source": [
    "import os\n",
    "\n",
    "import tensorflow as tf\n",
    "import numpy as np\n",
    "import pandas as pd\n",
    "import datetime\n",
    "import matplotlib.pyplot as plt\n",
    "\n",
    "import cx_Oracle\n",
    "from sqlalchemy import types, create_engine\n",
    "\n",
    "os.environ[\"CUDA_VISIBLE_DEVICES\"]=\"-1\"    \n",
    "tf.set_random_seed(1008)"
   ]
  },
  {
   "cell_type": "code",
   "execution_count": 2,
   "metadata": {
    "collapsed": true
   },
   "outputs": [],
   "source": [
    "# Standardization (표준화)\n",
    "# 요소값 - 평균 / 표준편차\n",
    "# 평균을 기준으로 얼마나 떨어져 있는가\n",
    "# 데이터 진폭을 줄어들게 하는 효과\n",
    "def data_standardization(x):\n",
    "    x = np.asarray(x)\n",
    "    return (x - x.mean()) / x.std()"
   ]
  },
  {
   "cell_type": "code",
   "execution_count": 3,
   "metadata": {
    "collapsed": true
   },
   "outputs": [],
   "source": [
    "# Normalization (정규화)\n",
    "# (요소값 - 최소값) / (최대값 - 최소값)\n",
    "# 전체 구간을 0 ~ 100 으로 설정.\n",
    "# 너무 작거나 너무 큰 값이 학습을 방해하는 것을 방지하고자 정규화한다\n",
    "# x가 양수라는 가정하에 최소값과 최대값을 이용하여 0~1사이의 값으로 변환 \n",
    "# 최대값과 최소값이 같아지는 경우 , /0 문제를 막기 위해 1e-8 을 더함\n",
    "def Normalization(x):\n",
    "    x = np.asarray(x)\n",
    "    return (x - x.min()) / (x.max() - x.min() + 1e-8) # 1e-7은 0으로 나누는 오류 예방차원"
   ]
  },
  {
   "cell_type": "code",
   "execution_count": 4,
   "metadata": {
    "collapsed": true
   },
   "outputs": [],
   "source": [
    "# Denormalization (역정규화)\n",
    "# 요소값 * (원래값의 최대 - 원래값의 최소) + 원래값의 최소\n",
    "# 전체 구간을 0 ~ 100 으로 설정.\n",
    "# 너무 작거나 너무 큰 값이 학습을 방해하는 것을 방지하고자 정규화한다\n",
    "# x가 양수라는 가정하에 최소값과 최대값을 이용하여 0~1사이의 값으로 변환 \n",
    "# 최대값과 최소값이 같아지는 경우 , /0 문제를 막기 위해 1e-8 을 더함\n",
    "def Denormalization(denormal_x, normal_x):\n",
    "    denormal_x = np.asarray(denormal_x)\n",
    "    normal_x = np.asarray(normal_x)\n",
    "    return (normal_x * (denormal_x.max() - denormal_x.min() + 1e-8)) + denormal_x.min()"
   ]
  },
  {
   "cell_type": "code",
   "execution_count": 5,
   "metadata": {
    "collapsed": true
   },
   "outputs": [],
   "source": [
    "# Oracle DB 에 접속하여 쿼리를 요청하는 함수\n",
    "def read_query(connection, query):\n",
    "    cursor = connection.cursor()\n",
    "    try:\n",
    "        cursor.execute( query )\n",
    "        names = [ x[0] for x in cursor.description]\n",
    "        rows = cursor.fetchall()\n",
    "        return pd.DataFrame( rows, columns=names)\n",
    "    finally:\n",
    "        if cursor is not None:\n",
    "            cursor.close()"
   ]
  },
  {
   "cell_type": "code",
   "execution_count": 6,
   "metadata": {
    "collapsed": true
   },
   "outputs": [],
   "source": [
    "# 하이퍼파라미터\n",
    "\n",
    "# 입력 , 출력 데이터의 컬럼 개수\n",
    "# 현재가와 거래량을 통해 다음 현재가를 알아볼 것이므로 각각 2 ,1\n",
    "input_data_count = 2 \n",
    "output_data_count = 1 \n",
    "\n",
    "# 시계열데이터 입력 개수\n",
    "# 과거 30개의 데이터만 알아보기로 함.\n",
    "timeserial_count = 30            \n",
    "# lstm에서의 각 셀의 출력 크기\n",
    "rnn_lstm_hidden= 30\n",
    "\n",
    "# 망각계수( 망각 편향 )\n",
    "forget_bias = 1.0\n",
    "# stacked LSTM layer 개수\n",
    "num_stacked_layers = 1\n",
    "# dropout할 때 keep할 비율\n",
    "# test : 1.0 / train : 0.5 ~ 0.7\n",
    "keep_prob = 1.0            \n",
    "# Epoch 회수 (반복 횟수)\n",
    "max_epoch = 1000\n",
    "# 학습률\n",
    "learning_rate = 0.01      "
   ]
  },
  {
   "cell_type": "code",
   "execution_count": 7,
   "metadata": {},
   "outputs": [
    {
     "name": "stdout",
     "output_type": "stream",
     "text": [
      "datapath :  ['A000100_유한양행.csv', 'A000640_동아쏘시오홀딩스.csv', 'A001630_종근당.csv', 'A006280_녹십자.csv', 'A008930_한미사이언스.csv', 'A009290_광동제약.csv', 'A069620_대웅제약.csv', 'A096760_JW홀딩스.csv', 'A128940_한미약품.csv', 'A249420_일동제약.csv']\n",
      "dataname :  ['A000100', 'A000640', 'A001630', 'A006280', 'A008930', 'A009290', 'A069620', 'A096760', 'A128940', 'A249420']\n"
     ]
    },
    {
     "data": {
      "text/html": [
       "<div>\n",
       "<style>\n",
       "    .dataframe thead tr:only-child th {\n",
       "        text-align: right;\n",
       "    }\n",
       "\n",
       "    .dataframe thead th {\n",
       "        text-align: left;\n",
       "    }\n",
       "\n",
       "    .dataframe tbody tr th {\n",
       "        vertical-align: top;\n",
       "    }\n",
       "</style>\n",
       "<table border=\"1\" class=\"dataframe\">\n",
       "  <thead>\n",
       "    <tr style=\"text-align: right;\">\n",
       "      <th></th>\n",
       "      <th>STOCK_PRICE</th>\n",
       "      <th>STOCK_VOLUME</th>\n",
       "    </tr>\n",
       "    <tr>\n",
       "      <th>STOCK_INDEX</th>\n",
       "      <th></th>\n",
       "      <th></th>\n",
       "    </tr>\n",
       "  </thead>\n",
       "  <tbody>\n",
       "    <tr>\n",
       "      <th>0</th>\n",
       "      <td>219000</td>\n",
       "      <td>206</td>\n",
       "    </tr>\n",
       "    <tr>\n",
       "      <th>1</th>\n",
       "      <td>219000</td>\n",
       "      <td>68</td>\n",
       "    </tr>\n",
       "    <tr>\n",
       "      <th>2</th>\n",
       "      <td>220000</td>\n",
       "      <td>407</td>\n",
       "    </tr>\n",
       "    <tr>\n",
       "      <th>3</th>\n",
       "      <td>219000</td>\n",
       "      <td>317</td>\n",
       "    </tr>\n",
       "    <tr>\n",
       "      <th>4</th>\n",
       "      <td>217500</td>\n",
       "      <td>88</td>\n",
       "    </tr>\n",
       "  </tbody>\n",
       "</table>\n",
       "</div>"
      ],
      "text/plain": [
       "             STOCK_PRICE  STOCK_VOLUME\n",
       "STOCK_INDEX                           \n",
       "0                 219000           206\n",
       "1                 219000            68\n",
       "2                 220000           407\n",
       "3                 219000           317\n",
       "4                 217500            88"
      ]
     },
     "execution_count": 7,
     "metadata": {},
     "output_type": "execute_result"
    }
   ],
   "source": [
    "# 데이터의 경로\n",
    "# 가져올 주식들의 종목을 알아야 하므로 파일 이름만 알아옴.\n",
    "datapath = os.listdir(\"../static/data/\")\n",
    "datapath = [i for i in datapath if 'A' in i]\n",
    "dataname = [i[:7] for i in datapath]\n",
    "print(\"datapath : \" ,datapath)\n",
    "print(\"dataname : \" ,dataname)\n",
    "\n",
    "# oracle DB 에 접속하여 얻어오기.\n",
    "# 가져온 db에서 키 값인 STOCK_INDEX를 index로 만들기\n",
    "connect = cx_Oracle.connect(\"STOCKDJANGO\", \"dhruddnjs\", \"localhost/orcl\")\n",
    "targetDataFrame = targetDataFrame = read_query(connect,\"select * from %s\" % dataname[0])\n",
    "targetDataFrame = targetDataFrame.set_index(\"STOCK_INDEX\")\n",
    "targetDataFrame = targetDataFrame.sort_index()\n",
    "# 시간순으로 정렬되어있으며 시간값은 필요 없으므로 제거\n",
    "del targetDataFrame['STOCK_DATE'] # 위 줄과 같은 효과\n",
    "del targetDataFrame['STOCK_TIME'] # 위 줄과 같은 효과\n",
    "targetDataFrame.head()"
   ]
  },
  {
   "cell_type": "code",
   "execution_count": 21,
   "metadata": {},
   "outputs": [
    {
     "name": "stdout",
     "output_type": "stream",
     "text": [
      "stock_info.shape:  (76847, 2)\n",
      "price.shape:  (76847, 1)\n",
      "volume.shape:  (76847, 1)\n",
      "normal_stock.shape:  (76847, 2)\n",
      "[[5.16587678e-01 7.72302592e-03]\n",
      " [5.16587678e-01 2.52411091e-03]\n",
      " [5.26066351e-01 1.52953586e-02]\n",
      " [5.16587678e-01 1.19047619e-02]\n",
      " [5.02369668e-01 3.27757685e-03]\n",
      " [5.02369668e-01 5.99005425e-03]\n",
      " [4.97630332e-01 3.27757685e-03]\n",
      " [4.97630332e-01 3.80500301e-03]\n",
      " [4.97630332e-01 8.28812538e-03]\n",
      " [4.92890995e-01 2.54294756e-02]\n",
      " [4.83412322e-01 5.19891501e-03]\n",
      " [4.83412322e-01 6.21609403e-03]\n",
      " [4.78672986e-01 2.78782399e-03]\n",
      " [4.83412322e-01 1.74804099e-02]\n",
      " [4.97630332e-01 5.65099458e-04]\n",
      " [4.97630332e-01 9.30530440e-03]\n",
      " [4.97630332e-01 3.91802291e-03]\n",
      " [4.92890995e-01 4.14406269e-04]\n",
      " [4.92890995e-01 9.04159132e-04]\n",
      " [4.92890995e-01 1.03978300e-02]\n",
      " [4.92890995e-01 6.14074744e-03]\n",
      " [4.97630332e-01 2.41109102e-03]\n",
      " [4.92890995e-01 1.46925859e-03]\n",
      " [4.88151659e-01 1.05485232e-03]\n",
      " [4.92890995e-01 1.20554551e-03]\n",
      " [4.88151659e-01 3.76732972e-04]\n",
      " [4.88151659e-01 2.37341772e-03]\n",
      " [4.88151659e-01 1.13019892e-04]\n",
      " [4.92890995e-01 5.57564798e-03]\n",
      " [4.88151659e-01 5.65099458e-04]]\n",
      "30\n",
      "[0.48815166]\n"
     ]
    }
   ],
   "source": [
    "# dataframe 형태를 numpy 로 변환하기\n",
    "# 정규화 하기 위해 사용.\n",
    "stock = targetDataFrame.values[0:].astype(np.float)\n",
    "print(\"stock_info.shape: \", stock.shape)\n",
    "price = stock[:,:-1]\n",
    "# 가격형태 데이터 정규화 처리\n",
    "norm_price = Normalization(price) \n",
    "print(\"price.shape: \", price.shape)\n",
    "volume = stock[:,-1:]\n",
    "norm_volume = Normalization(volume)\n",
    "# 거래량형태 데이터 정규화 처리\n",
    "print(\"volume.shape: \", volume.shape)\n",
    "normal_stock = np.concatenate((norm_price, norm_volume), axis=1)\n",
    "print(\"normal_stock.shape: \", normal_stock.shape)\n",
    "target_stock = normal_stock[:, [0]] # 목표는 주식 현재가\n",
    "dataX = [] # 입력\n",
    "dataY = [] # 출력\n",
    "\n",
    "for i in range(0, len(target_stock) - timeserial_count):\n",
    "    x = normal_stock[i : i+timeserial_count]\n",
    "    y = target_stock[i + timeserial_count]\n",
    "    dataX.append(x) \n",
    "    dataY.append(y) \n",
    "\n",
    "print(dataX[0])\n",
    "print(len(dataX[0]))\n",
    "print(dataY[0])"
   ]
  },
  {
   "cell_type": "code",
   "execution_count": 15,
   "metadata": {},
   "outputs": [
    {
     "name": "stdout",
     "output_type": "stream",
     "text": [
      "X:  Tensor(\"input_Data:0\", shape=(?, 30, 2), dtype=float32)\n",
      "Y:  Tensor(\"output_Data:0\", shape=(?, 1), dtype=float32)\n",
      "targets:  Tensor(\"target:0\", shape=(?, 1), dtype=float32)\n",
      "predictions:  Tensor(\"predict:0\", shape=(?, 1), dtype=float32)\n"
     ]
    }
   ],
   "source": [
    "# 학습용/테스트용 데이터 생성 ( 7 : 3)\n",
    "train_size = int(len(dataY) * 0.7)\n",
    "test_size = len(dataY) - train_size\n",
    "\n",
    "\n",
    "trainX = np.array(dataX[0:train_size])\n",
    "trainY = np.array(dataY[0:train_size])\n",
    "\n",
    "testX = np.array(dataX[train_size:len(dataX)])\n",
    "testY = np.array(dataY[train_size:len(dataY)])\n",
    "\n",
    "# 텐서플로우에서 사용하기 위한 변수 사용\n",
    "X = tf.placeholder(tf.float32, [None, timeserial_count, input_data_count], name=\"input_Data\")\n",
    "print(\"X: \", X)\n",
    "Y = tf.placeholder(tf.float32, [None, 1] ,name=\"output_Data\")\n",
    "print(\"Y: \", Y)\n",
    "targets = tf.placeholder(tf.float32, [None, 1] ,name=\"target\")\n",
    "print(\"targets: \", targets)\n",
    "predictions = tf.placeholder(tf.float32, [None, 1],name=\"predict\" )\n",
    "print(\"predictions: \", predictions)\n",
    "\n"
   ]
  },
  {
   "cell_type": "code",
   "execution_count": 16,
   "metadata": {
    "collapsed": true
   },
   "outputs": [],
   "source": [
    "# 모델(LSTM 네트워크) 생성\n",
    "def lstm_cell():\n",
    "    cell = tf.contrib.rnn.BasicLSTMCell(num_units=rnn_lstm_hidden, \n",
    "                                        forget_bias=forget_bias, state_is_tuple=True, activation=tf.nn.softsign)\n",
    "    if keep_prob < 1.0:\n",
    "        cell = tf.contrib.rnn.DropoutWrapper(cell, output_keep_prob=keep_prob)\n",
    "    return cell"
   ]
  },
  {
   "cell_type": "code",
   "execution_count": 17,
   "metadata": {},
   "outputs": [
    {
     "name": "stdout",
     "output_type": "stream",
     "text": [
      "hypothesis:  Tensor(\"rnn/transpose_1:0\", shape=(?, 30, 30), dtype=float32)\n",
      "LSTMStateTuple(c=<tf.Tensor 'rnn/while/Exit_3:0' shape=(?, 30) dtype=float32>, h=<tf.Tensor 'rnn/while/Exit_4:0' shape=(?, 30) dtype=float32>)\n"
     ]
    }
   ],
   "source": [
    "stackedRNNs = [lstm_cell() for _ in range(num_stacked_layers)]\n",
    "multi_cells = tf.contrib.rnn.MultiRNNCell(stackedRNNs, state_is_tuple=True) if num_stacked_layers > 1 else lstm_cell()\n",
    "hypothesis, _states = tf.nn.dynamic_rnn(multi_cells, X, dtype=tf.float32)\n",
    "print(\"hypothesis: \", hypothesis)\n",
    "print(_states)"
   ]
  },
  {
   "cell_type": "code",
   "execution_count": 18,
   "metadata": {
    "collapsed": true
   },
   "outputs": [],
   "source": [
    "# [:, -1]를 잘 살펴보자. LSTM RNN의 마지막 (hidden)출력만을 사용했다.\n",
    "# 과거 여러 거래일의 주가를 이용해서 다음날의 주가 1개를 예측하기때문에 MANY-TO-ONE형태이다\n",
    "hypothesis = tf.contrib.layers.fully_connected(hypothesis[:, -1], output_data_count, activation_fn=tf.identity )"
   ]
  },
  {
   "cell_type": "code",
   "execution_count": 19,
   "metadata": {
    "collapsed": true
   },
   "outputs": [],
   "source": [
    "# 손실함수로 평균제곱오차를 사용한다\n",
    "loss = tf.reduce_sum(tf.square(hypothesis - Y))\n",
    "# 최적화함수로 AdamOptimizer를 사용한다\n",
    "optimizer = tf.train.AdamOptimizer(learning_rate)\n",
    "# optimizer = tf.train.RMSPropOptimizer(learning_rate) # LSTM과 궁합 별로임"
   ]
  },
  {
   "cell_type": "code",
   "execution_count": 20,
   "metadata": {
    "collapsed": true
   },
   "outputs": [],
   "source": [
    "train = optimizer.minimize(loss)\n",
    " \n",
    "# RMSE(Root Mean Square Error)\n",
    "# 제곱오차의 평균을 구하고 다시 제곱근을 구하면 평균 오차가 나온다\n",
    "# rmse = tf.sqrt(tf.reduce_mean(tf.square(targets-predictions))) # 아래 코드와 같다\n",
    "rmse = tf.sqrt(tf.reduce_mean(tf.squared_difference(targets, predictions)))"
   ]
  },
  {
   "cell_type": "code",
   "execution_count": 17,
   "metadata": {
    "collapsed": true
   },
   "outputs": [],
   "source": [
    "train_error_summary = [] # 학습용 데이터의 오류를 중간 중간 기록한다\n",
    "test_error_summary = []  # 테스트용 데이터의 오류를 중간 중간 기록한다\n",
    "test_predict = ''        # 테스트용데이터로 예측한 결과\n",
    "\n",
    "sess = tf.Session()\n",
    "sess.run(tf.global_variables_initializer())"
   ]
  },
  {
   "cell_type": "code",
   "execution_count": 18,
   "metadata": {},
   "outputs": [
    {
     "name": "stdout",
     "output_type": "stream",
     "text": [
      "학습을 시작합니다...\n",
      "epoch: 100, train_error(A): 0.006226170342415571, test_error(B): 0.00895534735172987, B-A: 0.0027291770093142986\n",
      "epoch: 200, train_error(A): 0.00477130152285099, test_error(B): 0.008454910479485989, B-A: 0.0036836089566349983\n",
      "epoch: 300, train_error(A): 0.004514213185757399, test_error(B): 0.009230082854628563, B-A: 0.004715869668871164\n",
      "epoch: 400, train_error(A): 0.00444313557818532, test_error(B): 0.009638895280659199, B-A: 0.005195759702473879\n",
      "epoch: 500, train_error(A): 0.00441445829346776, test_error(B): 0.00964961014688015, B-A: 0.00523515185341239\n",
      "epoch: 600, train_error(A): 0.004392663482576609, test_error(B): 0.00952958781272173, B-A: 0.005136924330145121\n",
      "epoch: 700, train_error(A): 0.004373233765363693, test_error(B): 0.009382231160998344, B-A: 0.005008997395634651\n",
      "epoch: 800, train_error(A): 0.004354985896497965, test_error(B): 0.009233176708221436, B-A: 0.004878190811723471\n",
      "epoch: 900, train_error(A): 0.004337207414209843, test_error(B): 0.009091700427234173, B-A: 0.00475449301302433\n",
      "epoch: 1000, train_error(A): 0.004319422412663698, test_error(B): 0.008961181156337261, B-A: 0.004641758743673563\n",
      "elapsed_time: 2:01:44.195258\n",
      "elapsed_time per epoch: 0:00:07.304195\n"
     ]
    }
   ],
   "source": [
    "# 학습한다\n",
    "start_time = datetime.datetime.now() # 시작시간을 기록한다\n",
    "print('학습을 시작합니다...')\n",
    "for epoch in range(max_epoch):\n",
    "    _, _loss = sess.run([train, loss], feed_dict={X: trainX, Y: trainY})\n",
    "    if ((epoch+1) % 100 == 0) or (epoch == max_epoch-1): # 100번째마다 또는 마지막 epoch인 경우\n",
    "        \n",
    "        \n",
    "        # 학습용데이터로 rmse오차를 구한다\n",
    "        train_predict = sess.run(hypothesis, feed_dict={X: trainX})\n",
    "        train_error = sess.run(rmse, feed_dict={targets: trainY, predictions: train_predict})\n",
    "        train_error_summary.append(train_error)\n",
    " \n",
    "        # 테스트용데이터로 rmse오차를 구한다\n",
    "        test_predict = sess.run(hypothesis, feed_dict={X: testX})\n",
    "        test_error = sess.run(rmse, feed_dict={targets: testY, predictions: test_predict})\n",
    "        test_error_summary.append(test_error)\n",
    "        \n",
    "        # 현재 오류를 출력한다\n",
    "        print(\"epoch: {}, train_error(A): {}, test_error(B): {}, B-A: {}\".format(epoch+1, train_error, test_error, test_error-train_error))\n",
    "        \n",
    "        \n",
    "end_time = datetime.datetime.now() # 종료시간을 기록한다\n",
    "elapsed_time = end_time - start_time # 경과시간을 구한다\n",
    "print('elapsed_time:',elapsed_time)\n",
    "print('elapsed_time per epoch:',elapsed_time/max_epoch)"
   ]
  },
  {
   "cell_type": "code",
   "execution_count": 19,
   "metadata": {},
   "outputs": [
    {
     "name": "stdout",
     "output_type": "stream",
     "text": [
      "input_data_count: 2,output_data_column_cnt: 1,timeserial_count: 30,rnn_lstm_hidden: 30,forget_bias: 1.0,num_stacked_layers: 1,keep_prob: 1.0,max_epoch: 1000,learning_rate: 0.01,train_error: 0.0043194224,test_error: 0.008961181,min_test_error: 0.0084549105\n"
     ]
    },
    {
     "data": {
      "image/png": "[encoded data removed]",
      "text/plain": [
       "<matplotlib.figure.Figure at 0x129c7ac26a0>"
      ]
     },
     "metadata": {},
     "output_type": "display_data"
    },
    {
     "data": {
      "image/png": "[encoded data removed]",
      "text/plain": [
       "<matplotlib.figure.Figure at 0x12980030cc0>"
      ]
     },
     "metadata": {},
     "output_type": "display_data"
    },
    {
     "name": "stdout",
     "output_type": "stream",
     "text": [
      "recent_data.shape: (1, 30, 2)\n",
      "recent_data: [[[0.12796209 0.00685654]\n",
      "  [0.12796209 0.00391802]\n",
      "  [0.12796209 0.00625377]\n",
      "  [0.12796209 0.00546263]\n",
      "  [0.13270142 0.00636679]\n",
      "  [0.13270142 0.0050859 ]\n",
      "  [0.13270142 0.00938065]\n",
      "  [0.13270142 0.00534961]\n",
      "  [0.13270142 0.00485986]\n",
      "  [0.12796209 0.01103828]\n",
      "  [0.13270142 0.00783605]\n",
      "  [0.13270142 0.0110006 ]\n",
      "  [0.13270142 0.00934298]\n",
      "  [0.13270142 0.01627486]\n",
      "  [0.13744076 0.03432037]\n",
      "  [0.13744076 0.00553797]\n",
      "  [0.13744076 0.00712025]\n",
      "  [0.13744076 0.00354129]\n",
      "  [0.13744076 0.00621609]\n",
      "  [0.13744076 0.00685654]\n",
      "  [0.13270142 0.0039557 ]\n",
      "  [0.13744076 0.00632911]\n",
      "  [0.13744076 0.00572634]\n",
      "  [0.13270142 0.01879898]\n",
      "  [0.13744076 0.00655515]\n",
      "  [0.13270142 0.00316456]\n",
      "  [0.13270142 0.00470916]\n",
      "  [0.13744076 0.00369198]\n",
      "  [0.13744076 0.05172544]\n",
      "  [0.12796209 0.00388035]]]\n",
      "test_predict [0.15780616]\n",
      "Tomorrow's stock price [181148.55]\n"
     ]
    }
   ],
   "source": [
    "# 하이퍼파라미터 출력\n",
    "print('input_data_count:', input_data_count, end='')\n",
    "print(',output_data_column_cnt:', output_data_count, end='')\n",
    " \n",
    "print(',timeserial_count:', timeserial_count, end='')\n",
    "print(',rnn_lstm_hidden:', rnn_lstm_hidden, end='')\n",
    "print(',forget_bias:', forget_bias, end='')\n",
    "print(',num_stacked_layers:', num_stacked_layers, end='')\n",
    "print(',keep_prob:', keep_prob, end='')\n",
    " \n",
    "print(',max_epoch:', max_epoch, end='')\n",
    "print(',learning_rate:', learning_rate, end='')\n",
    " \n",
    "print(',train_error:', train_error_summary[-1], end='')\n",
    "print(',test_error:', test_error_summary[-1], end='')\n",
    "print(',min_test_error:', np.min(test_error_summary))\n",
    " \n",
    "# 결과 그래프 출력\n",
    "plt.figure(1)\n",
    "plt.plot(train_error_summary, 'gold')\n",
    "plt.plot(test_error_summary, 'b')\n",
    "plt.xlabel('Epoch(x100)')\n",
    "plt.ylabel('Root Mean Square Error')\n",
    " \n",
    "plt.figure(2)\n",
    "plt.plot(testY, 'r')\n",
    "plt.plot(test_predict, 'b')\n",
    "plt.xlabel('Time Period')\n",
    "plt.ylabel('Stock Price')\n",
    "plt.show()\n",
    " \n",
    " \n",
    "# sequence length만큼의 가장 최근 데이터를 슬라이싱한다\n",
    "recent_data = np.array([x[len(x)-timeserial_count : ]])\n",
    "print(\"recent_data.shape:\", recent_data.shape)\n",
    "print(\"recent_data:\", recent_data)\n",
    " \n",
    "# 내일 종가를 예측해본다\n",
    "test_predict = sess.run(hypothesis, feed_dict={X: recent_data})\n",
    " \n",
    "print(\"test_predict\", test_predict[0])\n",
    "test_predict = Denormalization(price,test_predict) # 금액데이터 역정규화한다\n",
    "print(\"Tomorrow's stock price\", test_predict[0]) # 예측한 주가를 출력한다"
   ]
  }
 ],
 "metadata": {
  "kernelspec": {
   "display_name": "deeplearning",
   "language": "python",
   "name": "deeplearning"
  },
  "language_info": {
   "codemirror_mode": {
    "name": "ipython",
    "version": 3
   },
   "file_extension": ".py",
   "mimetype": "text/x-python",
   "name": "python",
   "nbconvert_exporter": "python",
   "pygments_lexer": "ipython3",
   "version": "3.6.3"
  }
 },
 "nbformat": 4,
 "nbformat_minor": 2
}
