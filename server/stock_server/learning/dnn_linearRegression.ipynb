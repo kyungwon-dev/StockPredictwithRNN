{
 "cells": [
  {
   "cell_type": "code",
   "execution_count": null,
   "metadata": {
    "collapsed": true
   },
   "outputs": [],
   "source": [
    "gpu_options = tf.GPUOptions(per_process_gpu_memory_fraction=0.333)\n",
    "sess = tf.Session(config=tf.ConfigProto(gpu_options=gpu_options))"
   ]
  },
  {
   "cell_type": "code",
   "execution_count": null,
   "metadata": {
    "collapsed": true
   },
   "outputs": [],
   "source": [
    "start -- "
   ]
  },
  {
   "cell_type": "code",
   "execution_count": 3,
   "metadata": {},
   "outputs": [],
   "source": [
    "from keras.models import Sequential\n",
    "from keras.layers import Dense\n",
    "from keras.models import load_model\n",
    "from sklearn.model_selection import train_test_split\n",
    "from keras import optimizers\n",
    "import pandas as pd\n",
    "import numpy as np"
   ]
  },
  {
   "cell_type": "code",
   "execution_count": 6,
   "metadata": {},
   "outputs": [
    {
     "name": "stdout",
     "output_type": "stream",
     "text": [
      "['A000100_유한양행.csv', 'A000640_동아쏘시오홀딩스.csv', 'A001630_종근당.csv', 'A006280_녹십자.csv', 'A008930_한미사이언스.csv', 'A009290_광동제약.csv', 'A069620_대웅제약.csv', 'A096760_JW홀딩스.csv', 'A128940_한미약품.csv', 'A249420_일동제약.csv']\n"
     ]
    }
   ],
   "source": [
    "import os\n",
    "datapath = os.listdir(\"./static/data/\")\n",
    "datapath = [i for i in datapath if 'A' in i]\n",
    "print(datapath)"
   ]
  },
  {
   "cell_type": "code",
   "execution_count": null,
   "metadata": {
    "collapsed": true
   },
   "outputs": [],
   "source": [
    "for i in range(len(datapath)):\n",
    "    df = pd.read_csv('./static/data/%s' % datapath[i], engine='python',encoding='CP949',index_col=0,error_bad_lines=False)\n",
    "    df = df.reset_index(drop=True)\n",
    "    \n",
    "    # data drop\n",
    "    df = df.drop(\"일자\",axis=1)\n",
    "    df = df.drop(\"시간\",axis=1)\n",
    "\n",
    "    # label\n",
    "    df2 = df[\"현재가\"]\n",
    "    df2 = df2.to_frame()\n",
    "    df2 = df2.drop([0])\n",
    "    df2.rename(columns={\"현재가\":\"미래가\"},inplace=True)\n",
    "    df2 = df2.reset_index(drop = True)\n",
    "    \n",
    "    df_merge = pd.merge(df, df2, how=\"outer\", left_index=True, right_index=True)\n",
    "    dataset = df_merge.values\n",
    "\n",
    "    X = data_set[:, 0:2]\n",
    "    Y = data_set[:, 2:3]\n",
    "\n",
    "    X_train, X_validation, Y_train, Y_validation = train_test_split(X, Y,test_size=0.3)\n",
    "\n",
    "    model = Sequential()\n",
    "    model.add(Dense(8, input_dim=2, activation='relu'))\n",
    "    model.add(Dense(12, activation='relu'))\n",
    "    model.add(Dense(8, activation='relu'))\n",
    "    model.\n",
    "    modkeras.layers.Dropout(rate, noise_shape=None, seed=None)\n",
    "    model.add(Dense(4))\n",
    "    model.add(Dense(1))\n",
    "\n",
    "    adam = optimizers.Adam(lr=0.001)\n",
    "    model.compile(loss='mean_squared_error', optimizer=adam, metrics=['accuracy','mean_squared_error'])\n",
    "\n",
    "    model.fit(X_train, Y_train, epochs=100, batch_size=40)\n",
    "\n",
    "    Y_prediction = model.predict(X_validation).flatten()\n",
    "\n",
    "    model.save('dnn_sample_model.h5')\n",
    "    for i in range(10):\n",
    "        real_price = Y_validation[i]\n",
    "        predicted_price = Y_prediction[i]\n",
    "        print('Real Price: {}, Predicted Price: {}'.format(str(real_price),str(predicted_price)))\n",
    "    "
   ]
  },
  {
   "cell_type": "code",
   "execution_count": 3,
   "metadata": {},
   "outputs": [],
   "source": [
    "\n",
    "\n",
    "df = pd.read_csv('./data/A000100_유한양행.csv', engine='python',encoding='CP949',index_col=0,error_bad_lines=False)\n",
    "df.head()\n",
    "df = df.reset_index(drop=True)"
   ]
  },
  {
   "cell_type": "code",
   "execution_count": 33,
   "metadata": {},
   "outputs": [
    {
     "data": {
      "text/html": [
       "<div>\n",
       "<style>\n",
       "    .dataframe thead tr:only-child th {\n",
       "        text-align: right;\n",
       "    }\n",
       "\n",
       "    .dataframe thead th {\n",
       "        text-align: left;\n",
       "    }\n",
       "\n",
       "    .dataframe tbody tr th {\n",
       "        vertical-align: top;\n",
       "    }\n",
       "</style>\n",
       "<table border=\"1\" class=\"dataframe\">\n",
       "  <thead>\n",
       "    <tr style=\"text-align: right;\">\n",
       "      <th></th>\n",
       "      <th>일자</th>\n",
       "      <th>시간</th>\n",
       "      <th>현재가</th>\n",
       "      <th>거래량</th>\n",
       "    </tr>\n",
       "  </thead>\n",
       "  <tbody>\n",
       "    <tr>\n",
       "      <th>0</th>\n",
       "      <td>20180102</td>\n",
       "      <td>1001</td>\n",
       "      <td>219000</td>\n",
       "      <td>206</td>\n",
       "    </tr>\n",
       "    <tr>\n",
       "      <th>1</th>\n",
       "      <td>20180102</td>\n",
       "      <td>1002</td>\n",
       "      <td>219000</td>\n",
       "      <td>68</td>\n",
       "    </tr>\n",
       "    <tr>\n",
       "      <th>2</th>\n",
       "      <td>20180102</td>\n",
       "      <td>1003</td>\n",
       "      <td>220000</td>\n",
       "      <td>407</td>\n",
       "    </tr>\n",
       "    <tr>\n",
       "      <th>3</th>\n",
       "      <td>20180102</td>\n",
       "      <td>1004</td>\n",
       "      <td>219000</td>\n",
       "      <td>317</td>\n",
       "    </tr>\n",
       "    <tr>\n",
       "      <th>4</th>\n",
       "      <td>20180102</td>\n",
       "      <td>1005</td>\n",
       "      <td>217500</td>\n",
       "      <td>88</td>\n",
       "    </tr>\n",
       "  </tbody>\n",
       "</table>\n",
       "</div>"
      ],
      "text/plain": [
       "         일자    시간     현재가  거래량\n",
       "0  20180102  1001  219000  206\n",
       "1  20180102  1002  219000   68\n",
       "2  20180102  1003  220000  407\n",
       "3  20180102  1004  219000  317\n",
       "4  20180102  1005  217500   88"
      ]
     },
     "execution_count": 33,
     "metadata": {},
     "output_type": "execute_result"
    }
   ],
   "source": [
    "df = df[df.일자 < 20180103]\n",
    "df = df[df.시간 < 1501]\n",
    "df.head()"
   ]
  },
  {
   "cell_type": "code",
   "execution_count": 4,
   "metadata": {
    "collapsed": true
   },
   "outputs": [],
   "source": [
    "df = df.drop(\"일자\",axis=1)\n",
    "df = df.drop(\"시간\",axis=1)\n"
   ]
  },
  {
   "cell_type": "code",
   "execution_count": 5,
   "metadata": {},
   "outputs": [
    {
     "name": "stdout",
     "output_type": "stream",
     "text": [
      "74200\n",
      "74200\n",
      "<class 'pandas.core.series.Series'>\n",
      "74199\n",
      "74199\n",
      "          미래가\n",
      "0      219000\n",
      "1      220000\n",
      "2      219000\n",
      "3      217500\n",
      "4      217500\n",
      "5      217000\n",
      "6      217000\n",
      "7      217000\n",
      "8      216500\n",
      "9      215500\n",
      "10     215500\n",
      "11     215000\n",
      "12     215500\n",
      "13     217000\n",
      "14     217000\n",
      "15     217000\n",
      "16     216500\n",
      "17     216500\n",
      "18     216500\n",
      "19     216500\n",
      "20     217000\n",
      "21     216500\n",
      "22     216000\n",
      "23     216500\n",
      "24     216000\n",
      "25     216000\n",
      "26     216000\n",
      "27     216500\n",
      "28     216000\n",
      "29     216000\n",
      "...       ...\n",
      "74169  206500\n",
      "74170  206500\n",
      "74171  206000\n",
      "74172  207500\n",
      "74173  207000\n",
      "74174  206500\n",
      "74175  206500\n",
      "74176  206500\n",
      "74177  206500\n",
      "74178  206500\n",
      "74179  206000\n",
      "74180  206000\n",
      "74181  206500\n",
      "74182  206500\n",
      "74183  206500\n",
      "74184  206000\n",
      "74185  206500\n",
      "74186  206500\n",
      "74187  206500\n",
      "74188  206000\n",
      "74189  206000\n",
      "74190  206500\n",
      "74191  206500\n",
      "74192  206500\n",
      "74193  206500\n",
      "74194  206500\n",
      "74195  206500\n",
      "74196  206000\n",
      "74197  206500\n",
      "74198  206500\n",
      "\n",
      "[74199 rows x 1 columns]\n"
     ]
    }
   ],
   "source": [
    "print(len(df))\n",
    "\n",
    "df.head()\n",
    "df2 = df[\"현재가\"]\n",
    "print(len(df2))\n",
    "\n",
    "print(type(df2))\n",
    "df2 = df2.to_frame()\n",
    "\n",
    "df2 = df2.drop([0])\n",
    "\n",
    "print(len(df2))\n",
    "df2.rename(columns={\"현재가\":\"미래가\"},inplace=True)\n",
    "df2.head()\n",
    "\n",
    "df2 = df2.reset_index(drop = True)\n",
    "df2.head()\n",
    "print(len(df2))\n",
    "print(df2)\n",
    "\n",
    "df.head()\n",
    "\n",
    "a = pd.merge(df, df2, how=\"outer\", left_index=True, right_index=True)\n",
    "a.head()\n",
    "\n",
    "data_set = a.values"
   ]
  },
  {
   "cell_type": "code",
   "execution_count": 6,
   "metadata": {},
   "outputs": [
    {
     "name": "stdout",
     "output_type": "stream",
     "text": [
      "74200\n",
      "[[2.190e+05 2.060e+02 2.190e+05]\n",
      " [2.190e+05 6.800e+01 2.200e+05]\n",
      " [2.200e+05 4.070e+02 2.190e+05]\n",
      " ...\n",
      " [2.060e+05 5.230e+02 2.065e+05]\n",
      " [2.065e+05 4.800e+01 2.065e+05]\n",
      " [2.065e+05 2.740e+03       nan]]\n"
     ]
    }
   ],
   "source": [
    "print(len(data_set))\n",
    "print(data_set)"
   ]
  },
  {
   "cell_type": "code",
   "execution_count": 7,
   "metadata": {},
   "outputs": [],
   "source": [
    "def json_save(datapath,result):\n",
    "    with open(\"%s%s.json\" % (datapath,\"todayStock\") , \"w\", encoding=\"utf-8\") as file:\n",
    "        json.dump(result, file ,ensure_ascii=False, indent=\"\\t\")            \n",
    "    return None"
   ]
  },
  {
   "cell_type": "code",
   "execution_count": 10,
   "metadata": {
    "scrolled": true
   },
   "outputs": [
    {
     "name": "stdout",
     "output_type": "stream",
     "text": [
      "Epoch 1/100\n",
      "51940/51940 [==============================] - 7s 143us/step - loss: 4633905941.0854 - acc: 4.6207e-04 - mean_squared_error: 4633905941.0854\n",
      "Epoch 2/100\n",
      "51940/51940 [==============================] - 7s 142us/step - loss: 600352.7496 - acc: 5.9684e-04 - mean_squared_error: 600352.7496\n",
      "Epoch 3/100\n",
      "51940/51940 [==============================] - 7s 142us/step - loss: 366129.9202 - acc: 0.0012 - mean_squared_error: 366129.9202\n",
      "Epoch 4/100\n",
      "51940/51940 [==============================] - 8s 157us/step - loss: 233782.2723 - acc: 0.0023 - mean_squared_error: 233782.2723\n",
      "Epoch 5/100\n",
      "51940/51940 [==============================] - 9s 166us/step - loss: 181503.8890 - acc: 0.0029 - mean_squared_error: 181503.8890\n",
      "Epoch 6/100\n",
      "51940/51940 [==============================] - 8s 155us/step - loss: 171643.1487 - acc: 0.0018 - mean_squared_error: 171643.1487\n",
      "Epoch 7/100\n",
      "51940/51940 [==============================] - 8s 156us/step - loss: 181088.6570 - acc: 0.0014 - mean_squared_error: 181088.6570\n",
      "Epoch 8/100\n",
      "51940/51940 [==============================] - 8s 159us/step - loss: 192546.7784 - acc: 0.0017 - mean_squared_error: 192546.7784\n",
      "Epoch 9/100\n",
      "51940/51940 [==============================] - 8s 162us/step - loss: 206581.6080 - acc: 0.0014 - mean_squared_error: 206581.6080\n",
      "Epoch 10/100\n",
      "51940/51940 [==============================] - 8s 160us/step - loss: 196782.1845 - acc: 0.0011 - mean_squared_error: 196782.1845\n",
      "Epoch 11/100\n",
      "51940/51940 [==============================] - 8s 163us/step - loss: 204929.3472 - acc: 9.0489e-04 - mean_squared_error: 204929.3472\n",
      "Epoch 12/100\n",
      "51940/51940 [==============================] - 8s 161us/step - loss: 194164.8822 - acc: 0.0014 - mean_squared_error: 194164.8822\n",
      "Epoch 13/100\n",
      "51940/51940 [==============================] - 8s 147us/step - loss: 202519.9429 - acc: 5.5834e-04 - mean_squared_error: 202519.9429\n",
      "Epoch 14/100\n",
      "51940/51940 [==============================] - 8s 147us/step - loss: 196958.8574 - acc: 0.0011 - mean_squared_error: 196958.8574\n",
      "Epoch 15/100\n",
      "51940/51940 [==============================] - 8s 150us/step - loss: 196085.7991 - acc: 0.0013 - mean_squared_error: 196085.7991\n",
      "Epoch 16/100\n",
      "51940/51940 [==============================] - 8s 148us/step - loss: 199019.5782 - acc: 0.0015 - mean_squared_error: 199019.5782\n",
      "Epoch 17/100\n",
      "51940/51940 [==============================] - 8s 148us/step - loss: 199936.0626 - acc: 9.4340e-04 - mean_squared_error: 199936.0626\n",
      "Epoch 18/100\n",
      "51940/51940 [==============================] - 8s 151us/step - loss: 194885.5621 - acc: 0.0010 - mean_squared_error: 194885.5621\n",
      "Epoch 19/100\n",
      "51940/51940 [==============================] - 8s 148us/step - loss: 199259.9699 - acc: 5.9684e-04 - mean_squared_error: 199259.9699\n",
      "Epoch 20/100\n",
      "51940/51940 [==============================] - 8s 149us/step - loss: 192483.4383 - acc: 0.0013 - mean_squared_error: 192483.4383\n",
      "Epoch 21/100\n",
      "51940/51940 [==============================] - 8s 150us/step - loss: 195915.6042 - acc: 9.8190e-04 - mean_squared_error: 195915.6042\n",
      "Epoch 22/100\n",
      "51940/51940 [==============================] - 8s 149us/step - loss: 203004.2852 - acc: 9.8190e-04 - mean_squared_error: 203004.2852\n",
      "Epoch 23/100\n",
      "51940/51940 [==============================] - 7s 139us/step - loss: 202350.2224 - acc: 0.0016 - mean_squared_error: 202350.2224\n",
      "Epoch 24/100\n",
      "51940/51940 [==============================] - 7s 135us/step - loss: 192204.8726 - acc: 0.0011 - mean_squared_error: 192204.8726\n",
      "Epoch 25/100\n",
      "51940/51940 [==============================] - 7s 136us/step - loss: 195070.2850 - acc: 0.0012 - mean_squared_error: 195070.2850\n",
      "Epoch 26/100\n",
      "51940/51940 [==============================] - 7s 136us/step - loss: 197374.7514 - acc: 0.0020 - mean_squared_error: 197374.7514\n",
      "Epoch 27/100\n",
      "51940/51940 [==============================] - 7s 134us/step - loss: 199439.8784 - acc: 0.0015 - mean_squared_error: 199439.8784\n",
      "Epoch 28/100\n",
      "51940/51940 [==============================] - 7s 134us/step - loss: 200735.3437 - acc: 8.2788e-04 - mean_squared_error: 200735.3437\n",
      "Epoch 29/100\n",
      "51940/51940 [==============================] - 7s 133us/step - loss: 195924.6626 - acc: 8.8564e-04 - mean_squared_error: 195924.6626\n",
      "Epoch 30/100\n",
      "51940/51940 [==============================] - 7s 134us/step - loss: 196963.2068 - acc: 0.0015 - mean_squared_error: 196963.2068\n",
      "Epoch 31/100\n",
      "51940/51940 [==============================] - 7s 144us/step - loss: 197530.8071 - acc: 0.0018 - mean_squared_error: 197530.8071\n",
      "Epoch 32/100\n",
      "51940/51940 [==============================] - 9s 168us/step - loss: 192976.3162 - acc: 0.0019 - mean_squared_error: 192976.3162\n",
      "Epoch 33/100\n",
      "51940/51940 [==============================] - 7s 134us/step - loss: 206933.5474 - acc: 0.0012 - mean_squared_error: 206933.5474\n",
      "Epoch 34/100\n",
      "51940/51940 [==============================] - 7s 135us/step - loss: 201421.5246 - acc: 0.0016 - mean_squared_error: 201421.5246\n",
      "Epoch 35/100\n",
      "51940/51940 [==============================] - 7s 133us/step - loss: 197880.9378 - acc: 0.0014 - mean_squared_error: 197880.9378\n",
      "Epoch 36/100\n",
      "51940/51940 [==============================] - 7s 135us/step - loss: 196031.2502 - acc: 0.0012 - mean_squared_error: 196031.2502\n",
      "Epoch 37/100\n",
      "51940/51940 [==============================] - 7s 133us/step - loss: 199811.6734 - acc: 0.0017 - mean_squared_error: 199811.6734\n",
      "Epoch 38/100\n",
      "51940/51940 [==============================] - 7s 132us/step - loss: 200759.3790 - acc: 7.1236e-04 - mean_squared_error: 200759.3790\n",
      "Epoch 39/100\n",
      "51940/51940 [==============================] - 7s 133us/step - loss: 202992.9637 - acc: 7.8937e-04 - mean_squared_error: 202992.9637\n",
      "Epoch 40/100\n",
      "51940/51940 [==============================] - 7s 133us/step - loss: 198818.4565 - acc: 0.0012 - mean_squared_error: 198818.4565\n",
      "Epoch 41/100\n",
      "51940/51940 [==============================] - 7s 135us/step - loss: 199118.6526 - acc: 7.8937e-04 - mean_squared_error: 199118.6526\n",
      "Epoch 42/100\n",
      "51940/51940 [==============================] - 7s 132us/step - loss: 201724.8255 - acc: 0.0013 - mean_squared_error: 201724.8255\n",
      "Epoch 43/100\n",
      "51940/51940 [==============================] - 7s 133us/step - loss: 193950.2141 - acc: 0.0014 - mean_squared_error: 193950.2141\n",
      "Epoch 44/100\n",
      "51940/51940 [==============================] - 7s 133us/step - loss: 190398.5677 - acc: 0.0012 - mean_squared_error: 190398.5677\n",
      "Epoch 45/100\n",
      "51940/51940 [==============================] - 7s 141us/step - loss: 202581.5787 - acc: 9.2414e-04 - mean_squared_error: 202581.5787\n",
      "Epoch 46/100\n",
      "51940/51940 [==============================] - 7s 134us/step - loss: 196575.7012 - acc: 8.0863e-04 - mean_squared_error: 196575.7012\n",
      "Epoch 47/100\n",
      "51940/51940 [==============================] - 7s 134us/step - loss: 197141.2329 - acc: 0.0018 - mean_squared_error: 197141.2329\n",
      "Epoch 48/100\n",
      "51940/51940 [==============================] - 7s 141us/step - loss: 198560.2807 - acc: 0.0012 - mean_squared_error: 198560.2807\n",
      "Epoch 49/100\n",
      "51940/51940 [==============================] - 7s 135us/step - loss: 201537.6507 - acc: 0.0013 - mean_squared_error: 201537.6507\n",
      "Epoch 50/100\n",
      "51940/51940 [==============================] - 7s 140us/step - loss: 202610.6531 - acc: 0.0010 - mean_squared_error: 202610.6531\n",
      "Epoch 51/100\n",
      "51940/51940 [==============================] - 7s 134us/step - loss: 201524.8756 - acc: 6.1610e-04 - mean_squared_error: 201524.8756\n",
      "Epoch 52/100\n",
      "51940/51940 [==============================] - 7s 133us/step - loss: 189491.6314 - acc: 0.0014 - mean_squared_error: 189491.6314\n",
      "Epoch 53/100\n",
      "51940/51940 [==============================] - 7s 134us/step - loss: 206010.9765 - acc: 7.5087e-04 - mean_squared_error: 206010.9765\n",
      "Epoch 54/100\n",
      "51940/51940 [==============================] - 7s 135us/step - loss: 196624.6884 - acc: 0.0013 - mean_squared_error: 196624.6884\n",
      "Epoch 55/100\n",
      "51940/51940 [==============================] - 7s 133us/step - loss: 194891.7877 - acc: 3.4655e-04 - mean_squared_error: 194891.7877\n",
      "Epoch 56/100\n",
      "51940/51940 [==============================] - 7s 134us/step - loss: 200337.9569 - acc: 0.0014 - mean_squared_error: 200337.9569\n",
      "Epoch 57/100\n",
      "51940/51940 [==============================] - 7s 134us/step - loss: 199748.2707 - acc: 8.0863e-04 - mean_squared_error: 199748.2707\n",
      "Epoch 58/100\n"
     ]
    },
    {
     "name": "stdout",
     "output_type": "stream",
     "text": [
      "51940/51940 [==============================] - 7s 127us/step - loss: 193420.5303 - acc: 9.0489e-04 - mean_squared_error: 193420.5303\n",
      "Epoch 59/100\n",
      "51940/51940 [==============================] - 7s 126us/step - loss: 198595.0688 - acc: 6.3535e-04 - mean_squared_error: 198595.0688\n",
      "Epoch 60/100\n",
      "51940/51940 [==============================] - 7s 126us/step - loss: 205591.4758 - acc: 0.0011 - mean_squared_error: 205591.4758\n",
      "Epoch 61/100\n",
      "51940/51940 [==============================] - 7s 125us/step - loss: 187441.5659 - acc: 0.0013 - mean_squared_error: 187441.5659\n",
      "Epoch 62/100\n",
      "51940/51940 [==============================] - 7s 126us/step - loss: 203843.5126 - acc: 8.0863e-04 - mean_squared_error: 203843.5126\n",
      "Epoch 63/100\n",
      "51940/51940 [==============================] - 7s 127us/step - loss: 191476.7209 - acc: 0.0011 - mean_squared_error: 191476.7209\n",
      "Epoch 64/100\n",
      "51940/51940 [==============================] - 7s 129us/step - loss: 198260.8809 - acc: 0.0012 - mean_squared_error: 198260.8809\n",
      "Epoch 65/100\n",
      "51940/51940 [==============================] - 9s 165us/step - loss: 188802.2461 - acc: 9.4340e-04 - mean_squared_error: 188802.2461\n",
      "Epoch 66/100\n",
      "51940/51940 [==============================] - 8s 163us/step - loss: 204130.2129 - acc: 7.3161e-04 - mean_squared_error: 204130.2129\n",
      "Epoch 67/100\n",
      "51940/51940 [==============================] - 10s 193us/step - loss: 195897.1946 - acc: 0.0010 - mean_squared_error: 195897.1946\n",
      "Epoch 68/100\n",
      "51940/51940 [==============================] - 11s 212us/step - loss: 200271.7069 - acc: 9.6265e-04 - mean_squared_error: 200271.7069\n",
      "Epoch 69/100\n",
      "51940/51940 [==============================] - 11s 209us/step - loss: 196837.5677 - acc: 0.0016 - mean_squared_error: 196837.5677\n",
      "Epoch 70/100\n",
      "51940/51940 [==============================] - 9s 168us/step - loss: 196061.8894 - acc: 9.8190e-04 - mean_squared_error: 196061.8894\n",
      "Epoch 71/100\n",
      "51940/51940 [==============================] - 7s 135us/step - loss: 201698.2733 - acc: 0.0012 - mean_squared_error: 201698.2733\n",
      "Epoch 72/100\n",
      "51940/51940 [==============================] - 7s 141us/step - loss: 198389.2775 - acc: 0.0018 - mean_squared_error: 198389.2775\n",
      "Epoch 73/100\n",
      "51940/51940 [==============================] - 7s 144us/step - loss: 195203.4802 - acc: 4.6207e-04 - mean_squared_error: 195203.4802\n",
      "Epoch 74/100\n",
      "51940/51940 [==============================] - 8s 153us/step - loss: 195818.1478 - acc: 0.0010 - mean_squared_error: 195818.1478\n",
      "Epoch 75/100\n",
      "51940/51940 [==============================] - 7s 142us/step - loss: 190295.6044 - acc: 0.0011 - mean_squared_error: 190295.6044\n",
      "Epoch 76/100\n",
      "51940/51940 [==============================] - 7s 133us/step - loss: 195091.1589 - acc: 9.6265e-04 - mean_squared_error: 195091.1589\n",
      "Epoch 77/100\n",
      "51940/51940 [==============================] - 7s 128us/step - loss: 207065.9356 - acc: 6.3535e-04 - mean_squared_error: 207065.9356\n",
      "Epoch 78/100\n",
      "51940/51940 [==============================] - 7s 128us/step - loss: 193724.2653 - acc: 0.0017 - mean_squared_error: 193724.2653\n",
      "Epoch 79/100\n",
      "51940/51940 [==============================] - 7s 128us/step - loss: 200700.5642 - acc: 0.0020 - mean_squared_error: 200700.5642\n",
      "Epoch 80/100\n",
      "51940/51940 [==============================] - 7s 128us/step - loss: 197965.4255 - acc: 0.0014 - mean_squared_error: 197965.4255\n",
      "Epoch 81/100\n",
      "51940/51940 [==============================] - 7s 128us/step - loss: 199340.2671 - acc: 0.0016 - mean_squared_error: 199340.2671\n",
      "Epoch 82/100\n",
      "51940/51940 [==============================] - 7s 136us/step - loss: 208780.4758 - acc: 0.0021 - mean_squared_error: 208780.4758\n",
      "Epoch 83/100\n",
      "51940/51940 [==============================] - 7s 140us/step - loss: 192323.7224 - acc: 0.0011 - mean_squared_error: 192323.7224\n",
      "Epoch 84/100\n",
      "51940/51940 [==============================] - 7s 139us/step - loss: 189574.4635 - acc: 0.0017 - mean_squared_error: 189574.4635\n",
      "Epoch 85/100\n",
      "51940/51940 [==============================] - 7s 128us/step - loss: 196403.0329 - acc: 0.0014 - mean_squared_error: 196403.0329\n",
      "Epoch 86/100\n",
      "51940/51940 [==============================] - 7s 134us/step - loss: 196409.4170 - acc: 8.6638e-04 - mean_squared_error: 196409.4170\n",
      "Epoch 87/100\n",
      "51940/51940 [==============================] - 7s 129us/step - loss: 196847.4930 - acc: 8.4713e-04 - mean_squared_error: 196847.4930\n",
      "Epoch 88/100\n",
      "51940/51940 [==============================] - 7s 129us/step - loss: 200317.5405 - acc: 0.0010 - mean_squared_error: 200317.5405\n",
      "Epoch 89/100\n",
      "51940/51940 [==============================] - 7s 129us/step - loss: 202821.2763 - acc: 0.0016 - mean_squared_error: 202821.2763\n",
      "Epoch 90/100\n",
      "51940/51940 [==============================] - 7s 128us/step - loss: 205402.5441 - acc: 0.0016 - mean_squared_error: 205402.5441\n",
      "Epoch 91/100\n",
      "51940/51940 [==============================] - 7s 134us/step - loss: 201415.3624 - acc: 8.8564e-04 - mean_squared_error: 201415.3624\n",
      "Epoch 92/100\n",
      "51940/51940 [==============================] - 7s 129us/step - loss: 198752.4404 - acc: 0.0012 - mean_squared_error: 198752.4404\n",
      "Epoch 93/100\n",
      "51940/51940 [==============================] - 7s 129us/step - loss: 201500.8806 - acc: 5.1983e-04 - mean_squared_error: 201500.8806\n",
      "Epoch 94/100\n",
      "51940/51940 [==============================] - 7s 129us/step - loss: 202622.6505 - acc: 0.0014 - mean_squared_error: 202622.6505\n",
      "Epoch 95/100\n",
      "51940/51940 [==============================] - 7s 130us/step - loss: 194177.0134 - acc: 6.7385e-04 - mean_squared_error: 194177.0134\n",
      "Epoch 96/100\n",
      "51940/51940 [==============================] - 7s 130us/step - loss: 193522.2005 - acc: 7.5087e-04 - mean_squared_error: 193522.2005\n",
      "Epoch 97/100\n",
      "51940/51940 [==============================] - 7s 130us/step - loss: 197512.7872 - acc: 7.3161e-04 - mean_squared_error: 197512.7872\n",
      "Epoch 98/100\n",
      "51940/51940 [==============================] - 7s 129us/step - loss: 202295.9470 - acc: 7.3161e-04 - mean_squared_error: 202295.9470\n",
      "Epoch 99/100\n",
      "51940/51940 [==============================] - 7s 129us/step - loss: 200033.4424 - acc: 7.3161e-04 - mean_squared_error: 200033.4424\n",
      "Epoch 100/100\n",
      "51940/51940 [==============================] - 7s 130us/step - loss: 201169.6407 - acc: 0.0017 - mean_squared_error: 201169.6407\n",
      "Real Price: [217000.], Predicted Price: 216477.78\n",
      "Real Price: [223500.], Predicted Price: 223460.02\n",
      "Real Price: [237500.], Predicted Price: 236926.75\n",
      "Real Price: [218000.], Predicted Price: 217474.5\n",
      "Real Price: [223500.], Predicted Price: 222966.56\n",
      "Real Price: [214000.], Predicted Price: 213983.22\n",
      "Real Price: [227500.], Predicted Price: 226951.25\n",
      "Real Price: [230000.], Predicted Price: 229445.27\n",
      "Real Price: [226000.], Predicted Price: 225454.9\n",
      "Real Price: [219500.], Predicted Price: 219469.62\n"
     ]
    }
   ],
   "source": [
    "X = data_set[:, 0:2]\n",
    "Y = data_set[:, 2:3]\n",
    "\n",
    "X_train, X_validation, Y_train, Y_validation = train_test_split(X, Y,test_size=0.3)\n",
    "\n",
    "model = Sequential()\n",
    "model.add(Dense(8, input_dim=2, activation='relu'))\n",
    "model.add(Dense(12, activation='relu'))\n",
    "model.add(Dense(8, activation='relu'))\n",
    "model.add(Dense(4))\n",
    "model.add(Dense(1))\n",
    "\n",
    "adam = optimizers.Adam(lr=0.001)\n",
    "model.compile(loss='mean_squared_error', optimizer=adam, metrics=['accuracy','mean_squared_error'])\n",
    "\n",
    "model.fit(X_train, Y_train, epochs=100, batch_size=40)\n",
    "\n",
    "Y_prediction = model.predict(X_validation).flatten()\n",
    "\n",
    "model.save('dnn_sample_model.h5')\n",
    "for i in range(10):\n",
    "    real_price = Y_validation[i]\n",
    "    predicted_price = Y_prediction[i]\n",
    "    print('Real Price: {}, Predicted Price: {}'.format(str(real_price),str(predicted_price)))"
   ]
  },
  {
   "cell_type": "code",
   "execution_count": 1,
   "metadata": {},
   "outputs": [
    {
     "name": "stderr",
     "output_type": "stream",
     "text": [
      "C:\\python\\Anaconda3\\envs\\deeplearning\\lib\\site-packages\\h5py\\__init__.py:34: FutureWarning: Conversion of the second argument of issubdtype from `float` to `np.floating` is deprecated. In future, it will be treated as `np.float64 == np.dtype(float).type`.\n",
      "  from ._conv import register_converters as _register_converters\n",
      "Using TensorFlow backend.\n"
     ]
    }
   ],
   "source": [
    "import os\n",
    "import json\n",
    "import numpy as np\n",
    "from keras.models import load_model\n",
    "def loadToModel():\n",
    "    jsondata = os.listdir(\"./static/data/\")\n",
    "    jsondata = [i for i in jsondata if 'json'in i]\n",
    "    isRead = True\n",
    "    while isRead:\n",
    "        try:\n",
    "            with open('./static/data/%s' % \"\".join(jsondata), encoding='UTF8') as today_file:\n",
    "                jsondata = json.load(today_file)\n",
    "            isRead = False\n",
    "        except IOError:\n",
    "            print(\"retry...\")\n",
    "    stock_list = list(jsondata.keys())\n",
    "    learning_result = {}\n",
    "    for i in stock_list:\n",
    "        learning_result[str(i)] = [{\"DNN_PRICE\" : []}]\n",
    "    \n",
    "    #print(learning_result)\n",
    "    for \n",
    "    arr = np.array([[int(jsondata[stock_list[0]][1][\"STOCK_PRICE\"][-2]),int(jsondata[stock_list[0]][2][\"STOCK_VOLUME\"][-2])]])\n",
    "    model = load_model('./learning/dnn_sample_model.h5')\n",
    "    y = int(jsondata[stock_list[0]][1][\"STOCK_PRICE\"][-1])\n",
    "    predict_price = model.predict(arr).flatten()\n",
    "    \n",
    "    \n",
    "          \n"
   ]
  },
  {
   "cell_type": "code",
   "execution_count": 2,
   "metadata": {},
   "outputs": [
    {
     "name": "stdout",
     "output_type": "stream",
     "text": [
      "[[178000  90410]]\n",
      "178000\n",
      "[180430.33]\n"
     ]
    }
   ],
   "source": [
    "loadToModel()"
   ]
  },
  {
   "cell_type": "code",
   "execution_count": 38,
   "metadata": {},
   "outputs": [
    {
     "name": "stdout",
     "output_type": "stream",
     "text": [
      "[177000  54134]\n",
      "[[2.365e+05 6.000e+00]\n",
      " [2.265e+05 1.720e+02]\n",
      " [2.070e+05 9.000e+01]\n",
      " ...\n",
      " [2.090e+05 2.470e+02]\n",
      " [2.145e+05 2.270e+02]\n",
      " [2.225e+05 2.200e+02]]\n",
      "<class 'numpy.ndarray'>\n"
     ]
    }
   ],
   "source": [
    "\n",
    "print(arr)\n",
    "print(X_validation)\n",
    "print(type(X_validation))"
   ]
  },
  {
   "cell_type": "code",
   "execution_count": null,
   "metadata": {
    "collapsed": true
   },
   "outputs": [],
   "source": [
    "xhat = x_test[xhat_idx]\n",
    "\n",
    "# 3. 모델 사용하기\n",
    "yhat = model.predict_classes(xhat)\n",
    "\n",
    "for i in range(5):\n",
    "    print('True : ' + str(argmax(y_test[xhat_idx[i]])) + ', Predict : ' + str(yhat[i]))"
   ]
  },
  {
   "cell_type": "code",
   "execution_count": null,
   "metadata": {
    "collapsed": true
   },
   "outputs": [],
   "source": [
    "from keras.backend import tensorflow_backend as K\n",
    "import tensorflow as tf\n",
    "config = tf.ConfigProto()\n",
    "config.gpu_options.allow_growth = True\n",
    "K.set_session(tf.Session(config=config))\n",
    "\n",
    "\n",
    "model = load_model('dnn_sample_model.h5')\n",
    "arr = np.array([[177000,54134]])\n",
    "y = model.predict(arr).flatten()\n",
    "y_r  = 177000\n",
    "\n",
    "print(y)"
   ]
  },
  {
   "cell_type": "code",
   "execution_count": 91,
   "metadata": {},
   "outputs": [
    {
     "ename": "RecursionError",
     "evalue": "maximum recursion depth exceeded while decoding a JSON array from a unicode string",
     "output_type": "error",
     "traceback": [
      "\u001b[1;31m---------------------------------------------------------------------------\u001b[0m",
      "\u001b[1;31mRecursionError\u001b[0m                            Traceback (most recent call last)",
      "\u001b[1;32m<ipython-input-91-1ffdc17ffe2c>\u001b[0m in \u001b[0;36m<module>\u001b[1;34m()\u001b[0m\n\u001b[1;32m----> 1\u001b[1;33m \u001b[0mload_model\u001b[0m\u001b[1;33m(\u001b[0m\u001b[1;33m)\u001b[0m\u001b[1;33m\u001b[0m\u001b[0m\n\u001b[0m",
      "\u001b[1;32m<ipython-input-90-db3ceb23f0e1>\u001b[0m in \u001b[0;36mload_model\u001b[1;34m()\u001b[0m\n\u001b[0;32m     22\u001b[0m \u001b[1;33m\u001b[0m\u001b[0m\n\u001b[0;32m     23\u001b[0m     \u001b[0marr\u001b[0m \u001b[1;33m=\u001b[0m \u001b[0mnp\u001b[0m\u001b[1;33m.\u001b[0m\u001b[0marray\u001b[0m\u001b[1;33m(\u001b[0m\u001b[1;33m[\u001b[0m\u001b[1;33m[\u001b[0m\u001b[0mint\u001b[0m\u001b[1;33m(\u001b[0m\u001b[0mjsondata\u001b[0m\u001b[1;33m[\u001b[0m\u001b[0mstock_list\u001b[0m\u001b[1;33m[\u001b[0m\u001b[1;36m0\u001b[0m\u001b[1;33m]\u001b[0m\u001b[1;33m]\u001b[0m\u001b[1;33m[\u001b[0m\u001b[1;36m1\u001b[0m\u001b[1;33m]\u001b[0m\u001b[1;33m[\u001b[0m\u001b[1;34m\"STOCK_PRICE\"\u001b[0m\u001b[1;33m]\u001b[0m\u001b[1;33m[\u001b[0m\u001b[1;33m-\u001b[0m\u001b[1;36m1\u001b[0m\u001b[1;33m]\u001b[0m\u001b[1;33m)\u001b[0m\u001b[1;33m,\u001b[0m\u001b[0mint\u001b[0m\u001b[1;33m(\u001b[0m\u001b[0mjsondata\u001b[0m\u001b[1;33m[\u001b[0m\u001b[0mstock_list\u001b[0m\u001b[1;33m[\u001b[0m\u001b[1;36m0\u001b[0m\u001b[1;33m]\u001b[0m\u001b[1;33m]\u001b[0m\u001b[1;33m[\u001b[0m\u001b[1;36m2\u001b[0m\u001b[1;33m]\u001b[0m\u001b[1;33m[\u001b[0m\u001b[1;34m\"STOCK_VOLUME\"\u001b[0m\u001b[1;33m]\u001b[0m\u001b[1;33m[\u001b[0m\u001b[1;33m-\u001b[0m\u001b[1;36m1\u001b[0m\u001b[1;33m]\u001b[0m\u001b[1;33m)\u001b[0m\u001b[1;33m]\u001b[0m\u001b[1;33m]\u001b[0m\u001b[1;33m)\u001b[0m\u001b[1;33m\u001b[0m\u001b[0m\n\u001b[1;32m---> 24\u001b[1;33m     \u001b[0mmodel\u001b[0m \u001b[1;33m=\u001b[0m \u001b[0mload_model\u001b[0m\u001b[1;33m(\u001b[0m\u001b[1;33m)\u001b[0m\u001b[1;33m\u001b[0m\u001b[0m\n\u001b[0m\u001b[0;32m     25\u001b[0m     \u001b[0mprint\u001b[0m\u001b[1;33m(\u001b[0m\u001b[0mmodel\u001b[0m\u001b[1;33m)\u001b[0m\u001b[1;33m\u001b[0m\u001b[0m\n\u001b[0;32m     26\u001b[0m     \u001b[0mprint\u001b[0m\u001b[1;33m(\u001b[0m\u001b[0marr\u001b[0m\u001b[1;33m)\u001b[0m\u001b[1;33m\u001b[0m\u001b[0m\n",
      "... last 1 frames repeated, from the frame below ...\n",
      "\u001b[1;32m<ipython-input-90-db3ceb23f0e1>\u001b[0m in \u001b[0;36mload_model\u001b[1;34m()\u001b[0m\n\u001b[0;32m     22\u001b[0m \u001b[1;33m\u001b[0m\u001b[0m\n\u001b[0;32m     23\u001b[0m     \u001b[0marr\u001b[0m \u001b[1;33m=\u001b[0m \u001b[0mnp\u001b[0m\u001b[1;33m.\u001b[0m\u001b[0marray\u001b[0m\u001b[1;33m(\u001b[0m\u001b[1;33m[\u001b[0m\u001b[1;33m[\u001b[0m\u001b[0mint\u001b[0m\u001b[1;33m(\u001b[0m\u001b[0mjsondata\u001b[0m\u001b[1;33m[\u001b[0m\u001b[0mstock_list\u001b[0m\u001b[1;33m[\u001b[0m\u001b[1;36m0\u001b[0m\u001b[1;33m]\u001b[0m\u001b[1;33m]\u001b[0m\u001b[1;33m[\u001b[0m\u001b[1;36m1\u001b[0m\u001b[1;33m]\u001b[0m\u001b[1;33m[\u001b[0m\u001b[1;34m\"STOCK_PRICE\"\u001b[0m\u001b[1;33m]\u001b[0m\u001b[1;33m[\u001b[0m\u001b[1;33m-\u001b[0m\u001b[1;36m1\u001b[0m\u001b[1;33m]\u001b[0m\u001b[1;33m)\u001b[0m\u001b[1;33m,\u001b[0m\u001b[0mint\u001b[0m\u001b[1;33m(\u001b[0m\u001b[0mjsondata\u001b[0m\u001b[1;33m[\u001b[0m\u001b[0mstock_list\u001b[0m\u001b[1;33m[\u001b[0m\u001b[1;36m0\u001b[0m\u001b[1;33m]\u001b[0m\u001b[1;33m]\u001b[0m\u001b[1;33m[\u001b[0m\u001b[1;36m2\u001b[0m\u001b[1;33m]\u001b[0m\u001b[1;33m[\u001b[0m\u001b[1;34m\"STOCK_VOLUME\"\u001b[0m\u001b[1;33m]\u001b[0m\u001b[1;33m[\u001b[0m\u001b[1;33m-\u001b[0m\u001b[1;36m1\u001b[0m\u001b[1;33m]\u001b[0m\u001b[1;33m)\u001b[0m\u001b[1;33m]\u001b[0m\u001b[1;33m]\u001b[0m\u001b[1;33m)\u001b[0m\u001b[1;33m\u001b[0m\u001b[0m\n\u001b[1;32m---> 24\u001b[1;33m     \u001b[0mmodel\u001b[0m \u001b[1;33m=\u001b[0m \u001b[0mload_model\u001b[0m\u001b[1;33m(\u001b[0m\u001b[1;33m)\u001b[0m\u001b[1;33m\u001b[0m\u001b[0m\n\u001b[0m\u001b[0;32m     25\u001b[0m     \u001b[0mprint\u001b[0m\u001b[1;33m(\u001b[0m\u001b[0mmodel\u001b[0m\u001b[1;33m)\u001b[0m\u001b[1;33m\u001b[0m\u001b[0m\n\u001b[0;32m     26\u001b[0m     \u001b[0mprint\u001b[0m\u001b[1;33m(\u001b[0m\u001b[0marr\u001b[0m\u001b[1;33m)\u001b[0m\u001b[1;33m\u001b[0m\u001b[0m\n",
      "\u001b[1;31mRecursionError\u001b[0m: maximum recursion depth exceeded while decoding a JSON array from a unicode string"
     ]
    }
   ],
   "source": [
    "load_model()"
   ]
  },
  {
   "cell_type": "code",
   "execution_count": 34,
   "metadata": {},
   "outputs": [
    {
     "data": {
      "text/plain": [
       "'11'"
      ]
     },
     "execution_count": 34,
     "metadata": {},
     "output_type": "execute_result"
    }
   ],
   "source": [
    "a = [\"11\"]\n",
    "a[-1]"
   ]
  },
  {
   "cell_type": "code",
   "execution_count": null,
   "metadata": {
    "collapsed": true
   },
   "outputs": [],
   "source": [
    "          \n",
    "    \n",
    "    \n",
    "    if not datadir:\n",
    "            datadir = {}\n",
    "            for i in range(10):\n",
    "                datadir[\"%s_%s\" % (self.code[i],self.stock[i])] = []\n",
    "                datadir[\"%s_%s\" % (self.code[i],self.stock[i])].append({\"STOCK_DATE\":[]})\n",
    "                datadir[\"%s_%s\" % (self.code[i],self.stock[i])].append({\"STOCK_PRICE\":[]})\n",
    "                datadir[\"%s_%s\" % (self.code[i],self.stock[i])].append({\"STOCK_VOLUME\":[]})    \n",
    "        else:\n",
    "             with open('../data/%s' % \"\".join(self.result)) as data_file:    \n",
    "                self.result = json.load(data_file)"
   ]
  },
  {
   "cell_type": "code",
   "execution_count": 26,
   "metadata": {},
   "outputs": [
    {
     "name": "stdout",
     "output_type": "stream",
     "text": [
      "['todayStock.json']\n"
     ]
    }
   ],
   "source": [
    "load_model()"
   ]
  },
  {
   "cell_type": "code",
   "execution_count": 12,
   "metadata": {},
   "outputs": [
    {
     "name": "stdout",
     "output_type": "stream",
     "text": [
      "['todayStock.json']\n"
     ]
    }
   ],
   "source": [
    "load_model()"
   ]
  },
  {
   "cell_type": "code",
   "execution_count": 25,
   "metadata": {},
   "outputs": [
    {
     "name": "stdout",
     "output_type": "stream",
     "text": [
      "dd\n",
      "10.0\n"
     ]
    }
   ],
   "source": [
    "a = 10\n",
    "b = -1\n",
    "isRead = True\n",
    "while isRead:\n",
    "    try:\n",
    "        b = b + 1\n",
    "        print(a/b)  \n",
    "        isRead=False\n",
    "    except ZeroDivisionError:\n",
    "        print(\"dd\")\n",
    "    \n",
    "          \n",
    "          \n"
   ]
  },
  {
   "cell_type": "code",
   "execution_count": null,
   "metadata": {
    "collapsed": true
   },
   "outputs": [],
   "source": []
  }
 ],
 "metadata": {
  "kernelspec": {
   "display_name": "deeplearning",
   "language": "python",
   "name": "deeplearning"
  },
  "language_info": {
   "codemirror_mode": {
    "name": "ipython",
    "version": 3
   },
   "file_extension": ".py",
   "mimetype": "text/x-python",
   "name": "python",
   "nbconvert_exporter": "python",
   "pygments_lexer": "ipython3",
   "version": "3.6.3"
  }
 },
 "nbformat": 4,
 "nbformat_minor": 2
}
